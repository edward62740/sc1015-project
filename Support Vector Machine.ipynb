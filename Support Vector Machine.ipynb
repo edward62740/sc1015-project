{
 "cells": [
  {
   "cell_type": "markdown",
   "id": "c8a55332",
   "metadata": {},
   "source": [
    "# Part 3: Support Vector Machine\n",
    "\n",
    "### In this section, the cleaned text will be vectorized using TF-IDF (covered in Part 2) and will be used to train a Support Vector Machine (SVM). Specifically, the model used is the sklearn LinearSVC for classification problems.\n",
    "\n",
    "### This section will also explore and test different methods of fine-tuning the SVM and evaluating its effectiveness"
   ]
  },
  {
   "cell_type": "code",
   "execution_count": 26,
   "id": "d431ce6e",
   "metadata": {},
   "outputs": [],
   "source": [
    "import numpy as np\n",
    "import pandas as pd\n",
    "import sys\n",
    "import matplotlib.pyplot as plt\n",
    "import seaborn as sb\n",
    "import spacy\n",
    "import nltk\n",
    "import re\n",
    "from sklearn.feature_extraction.text import TfidfVectorizer\n",
    "from sklearn.model_selection import StratifiedShuffleSplit\n",
    "from imblearn.over_sampling import ADASYN\n",
    "from sklearn.feature_selection import SelectFromModel\n",
    "from sklearn.svm import LinearSVC\n",
    "from sklearn.metrics import accuracy_score\n",
    "from sklearn.metrics import confusion_matrix\n",
    "\n",
    "adasyn=ADASYN()\n",
    "sb.set()\n",
    "\n",
    "\"\"\" NOTE: SET YOUR PROJECT ROOT DIRECTORY HERE \"\"\"\n",
    "PROJ_DIR = r\"\"\n",
    "RANDOM_SPLIT_SEED = 11"
   ]
  },
  {
   "cell_type": "code",
   "execution_count": 8,
   "id": "65d4b80b",
   "metadata": {},
   "outputs": [
    {
     "name": "stdout",
     "output_type": "stream",
     "text": [
      "Requirement already satisfied: pandas_profiling in c:\\users\\workstation\\anaconda3\\lib\\site-packages (3.6.6)\n",
      "Requirement already satisfied: ydata-profiling in c:\\users\\workstation\\anaconda3\\lib\\site-packages (from pandas_profiling) (4.0.0)\n",
      "Requirement already satisfied: pydantic<1.11,>=1.8.1 in c:\\users\\workstation\\anaconda3\\lib\\site-packages (from ydata-profiling->pandas_profiling) (1.10.5)\n",
      "Requirement already satisfied: matplotlib<3.7,>=3.2 in c:\\users\\workstation\\anaconda3\\lib\\site-packages (from ydata-profiling->pandas_profiling) (3.5.2)\n",
      "Requirement already satisfied: numpy<1.24,>=1.16.0 in c:\\users\\workstation\\anaconda3\\lib\\site-packages (from ydata-profiling->pandas_profiling) (1.21.5)\n",
      "Requirement already satisfied: scipy<1.10,>=1.4.1 in c:\\users\\workstation\\anaconda3\\lib\\site-packages (from ydata-profiling->pandas_profiling) (1.9.1)\n",
      "Requirement already satisfied: PyYAML<6.1,>=5.0.0 in c:\\users\\workstation\\anaconda3\\lib\\site-packages (from ydata-profiling->pandas_profiling) (6.0)\n",
      "Requirement already satisfied: seaborn<0.13,>=0.10.1 in c:\\users\\workstation\\anaconda3\\lib\\site-packages (from ydata-profiling->pandas_profiling) (0.11.2)\n",
      "Requirement already satisfied: tqdm<4.65,>=4.48.2 in c:\\users\\workstation\\anaconda3\\lib\\site-packages (from ydata-profiling->pandas_profiling) (4.64.1)\n",
      "Requirement already satisfied: pandas!=1.4.0,<1.6,>1.1 in c:\\users\\workstation\\anaconda3\\lib\\site-packages (from ydata-profiling->pandas_profiling) (1.4.4)\n",
      "Requirement already satisfied: multimethod<1.10,>=1.4 in c:\\users\\workstation\\anaconda3\\lib\\site-packages (from ydata-profiling->pandas_profiling) (1.9.1)\n",
      "Requirement already satisfied: requests<2.29,>=2.24.0 in c:\\users\\workstation\\anaconda3\\lib\\site-packages (from ydata-profiling->pandas_profiling) (2.28.1)\n",
      "Requirement already satisfied: visions[type_image_path]==0.7.5 in c:\\users\\workstation\\anaconda3\\lib\\site-packages (from ydata-profiling->pandas_profiling) (0.7.5)\n",
      "Requirement already satisfied: statsmodels<0.14,>=0.13.2 in c:\\users\\workstation\\anaconda3\\lib\\site-packages (from ydata-profiling->pandas_profiling) (0.13.2)\n",
      "Requirement already satisfied: typeguard<2.14,>=2.13.2 in c:\\users\\workstation\\anaconda3\\lib\\site-packages (from ydata-profiling->pandas_profiling) (2.13.3)\n",
      "Requirement already satisfied: jinja2<3.2,>=2.11.1 in c:\\users\\workstation\\anaconda3\\lib\\site-packages (from ydata-profiling->pandas_profiling) (2.11.3)\n",
      "Requirement already satisfied: htmlmin==0.1.12 in c:\\users\\workstation\\anaconda3\\lib\\site-packages (from ydata-profiling->pandas_profiling) (0.1.12)\n",
      "Requirement already satisfied: phik<0.13,>=0.11.1 in c:\\users\\workstation\\anaconda3\\lib\\site-packages (from ydata-profiling->pandas_profiling) (0.12.3)\n",
      "Requirement already satisfied: tangled-up-in-unicode>=0.0.4 in c:\\users\\workstation\\anaconda3\\lib\\site-packages (from visions[type_image_path]==0.7.5->ydata-profiling->pandas_profiling) (0.2.0)\n",
      "Requirement already satisfied: networkx>=2.4 in c:\\users\\workstation\\anaconda3\\lib\\site-packages (from visions[type_image_path]==0.7.5->ydata-profiling->pandas_profiling) (2.8.4)\n",
      "Requirement already satisfied: attrs>=19.3.0 in c:\\users\\workstation\\anaconda3\\lib\\site-packages (from visions[type_image_path]==0.7.5->ydata-profiling->pandas_profiling) (21.4.0)\n",
      "Requirement already satisfied: Pillow in c:\\users\\workstation\\anaconda3\\lib\\site-packages (from visions[type_image_path]==0.7.5->ydata-profiling->pandas_profiling) (9.2.0)\n",
      "Requirement already satisfied: imagehash in c:\\users\\workstation\\anaconda3\\lib\\site-packages (from visions[type_image_path]==0.7.5->ydata-profiling->pandas_profiling) (4.3.1)\n",
      "Requirement already satisfied: MarkupSafe>=0.23 in c:\\users\\workstation\\anaconda3\\lib\\site-packages (from jinja2<3.2,>=2.11.1->ydata-profiling->pandas_profiling) (2.0.1)\n",
      "Requirement already satisfied: packaging>=20.0 in c:\\users\\workstation\\anaconda3\\lib\\site-packages (from matplotlib<3.7,>=3.2->ydata-profiling->pandas_profiling) (21.3)\n",
      "Requirement already satisfied: pyparsing>=2.2.1 in c:\\users\\workstation\\anaconda3\\lib\\site-packages (from matplotlib<3.7,>=3.2->ydata-profiling->pandas_profiling) (3.0.9)\n",
      "Requirement already satisfied: python-dateutil>=2.7 in c:\\users\\workstation\\anaconda3\\lib\\site-packages (from matplotlib<3.7,>=3.2->ydata-profiling->pandas_profiling) (2.8.2)\n",
      "Requirement already satisfied: fonttools>=4.22.0 in c:\\users\\workstation\\anaconda3\\lib\\site-packages (from matplotlib<3.7,>=3.2->ydata-profiling->pandas_profiling) (4.25.0)\n",
      "Requirement already satisfied: kiwisolver>=1.0.1 in c:\\users\\workstation\\anaconda3\\lib\\site-packages (from matplotlib<3.7,>=3.2->ydata-profiling->pandas_profiling) (1.4.2)\n",
      "Requirement already satisfied: cycler>=0.10 in c:\\users\\workstation\\anaconda3\\lib\\site-packages (from matplotlib<3.7,>=3.2->ydata-profiling->pandas_profiling) (0.11.0)\n",
      "Requirement already satisfied: pytz>=2020.1 in c:\\users\\workstation\\anaconda3\\lib\\site-packages (from pandas!=1.4.0,<1.6,>1.1->ydata-profiling->pandas_profiling) (2022.1)\n",
      "Requirement already satisfied: joblib>=0.14.1 in c:\\users\\workstation\\anaconda3\\lib\\site-packages (from phik<0.13,>=0.11.1->ydata-profiling->pandas_profiling) (1.2.0)\n",
      "Requirement already satisfied: typing-extensions>=4.2.0 in c:\\users\\workstation\\anaconda3\\lib\\site-packages (from pydantic<1.11,>=1.8.1->ydata-profiling->pandas_profiling) (4.3.0)\n",
      "Requirement already satisfied: idna<4,>=2.5 in c:\\users\\workstation\\anaconda3\\lib\\site-packages (from requests<2.29,>=2.24.0->ydata-profiling->pandas_profiling) (3.3)\n",
      "Requirement already satisfied: charset-normalizer<3,>=2 in c:\\users\\workstation\\anaconda3\\lib\\site-packages (from requests<2.29,>=2.24.0->ydata-profiling->pandas_profiling) (2.0.4)\n",
      "Requirement already satisfied: certifi>=2017.4.17 in c:\\users\\workstation\\anaconda3\\lib\\site-packages (from requests<2.29,>=2.24.0->ydata-profiling->pandas_profiling) (2022.9.14)\n",
      "Requirement already satisfied: urllib3<1.27,>=1.21.1 in c:\\users\\workstation\\anaconda3\\lib\\site-packages (from requests<2.29,>=2.24.0->ydata-profiling->pandas_profiling) (1.26.11)\n",
      "Requirement already satisfied: patsy>=0.5.2 in c:\\users\\workstation\\anaconda3\\lib\\site-packages (from statsmodels<0.14,>=0.13.2->ydata-profiling->pandas_profiling) (0.5.2)\n",
      "Requirement already satisfied: colorama in c:\\users\\workstation\\anaconda3\\lib\\site-packages (from tqdm<4.65,>=4.48.2->ydata-profiling->pandas_profiling) (0.4.6)\n",
      "Requirement already satisfied: six in c:\\users\\workstation\\anaconda3\\lib\\site-packages (from patsy>=0.5.2->statsmodels<0.14,>=0.13.2->ydata-profiling->pandas_profiling) (1.16.0)\n",
      "Requirement already satisfied: PyWavelets in c:\\users\\workstation\\anaconda3\\lib\\site-packages (from imagehash->visions[type_image_path]==0.7.5->ydata-profiling->pandas_profiling) (1.3.0)\n",
      "Requirement already satisfied: spacy in c:\\users\\workstation\\anaconda3\\lib\\site-packages (3.5.0)\n",
      "Requirement already satisfied: thinc<8.2.0,>=8.1.0 in c:\\users\\workstation\\anaconda3\\lib\\site-packages (from spacy) (8.1.7)\n",
      "Requirement already satisfied: pathy>=0.10.0 in c:\\users\\workstation\\anaconda3\\lib\\site-packages (from spacy) (0.10.1)\n",
      "Requirement already satisfied: murmurhash<1.1.0,>=0.28.0 in c:\\users\\workstation\\anaconda3\\lib\\site-packages (from spacy) (1.0.9)\n",
      "Requirement already satisfied: preshed<3.1.0,>=3.0.2 in c:\\users\\workstation\\anaconda3\\lib\\site-packages (from spacy) (3.0.8)\n",
      "Requirement already satisfied: numpy>=1.15.0 in c:\\users\\workstation\\anaconda3\\lib\\site-packages (from spacy) (1.21.5)\n",
      "Requirement already satisfied: tqdm<5.0.0,>=4.38.0 in c:\\users\\workstation\\anaconda3\\lib\\site-packages (from spacy) (4.64.1)\n",
      "Requirement already satisfied: wasabi<1.2.0,>=0.9.1 in c:\\users\\workstation\\anaconda3\\lib\\site-packages (from spacy) (1.1.1)\n",
      "Requirement already satisfied: pydantic!=1.8,!=1.8.1,<1.11.0,>=1.7.4 in c:\\users\\workstation\\anaconda3\\lib\\site-packages (from spacy) (1.10.5)\n",
      "Requirement already satisfied: setuptools in c:\\users\\workstation\\anaconda3\\lib\\site-packages (from spacy) (63.4.1)\n",
      "Requirement already satisfied: jinja2 in c:\\users\\workstation\\anaconda3\\lib\\site-packages (from spacy) (2.11.3)\n",
      "Requirement already satisfied: requests<3.0.0,>=2.13.0 in c:\\users\\workstation\\anaconda3\\lib\\site-packages (from spacy) (2.28.1)\n",
      "Requirement already satisfied: packaging>=20.0 in c:\\users\\workstation\\anaconda3\\lib\\site-packages (from spacy) (21.3)\n",
      "Requirement already satisfied: spacy-loggers<2.0.0,>=1.0.0 in c:\\users\\workstation\\anaconda3\\lib\\site-packages (from spacy) (1.0.4)\n",
      "Requirement already satisfied: cymem<2.1.0,>=2.0.2 in c:\\users\\workstation\\anaconda3\\lib\\site-packages (from spacy) (2.0.7)\n",
      "Requirement already satisfied: smart-open<7.0.0,>=5.2.1 in c:\\users\\workstation\\anaconda3\\lib\\site-packages (from spacy) (5.2.1)\n",
      "Requirement already satisfied: langcodes<4.0.0,>=3.2.0 in c:\\users\\workstation\\anaconda3\\lib\\site-packages (from spacy) (3.3.0)\n",
      "Requirement already satisfied: typer<0.8.0,>=0.3.0 in c:\\users\\workstation\\anaconda3\\lib\\site-packages (from spacy) (0.7.0)\n",
      "Requirement already satisfied: srsly<3.0.0,>=2.4.3 in c:\\users\\workstation\\anaconda3\\lib\\site-packages (from spacy) (2.4.5)\n",
      "Requirement already satisfied: spacy-legacy<3.1.0,>=3.0.11 in c:\\users\\workstation\\anaconda3\\lib\\site-packages (from spacy) (3.0.12)\n",
      "Requirement already satisfied: catalogue<2.1.0,>=2.0.6 in c:\\users\\workstation\\anaconda3\\lib\\site-packages (from spacy) (2.0.8)\n",
      "Requirement already satisfied: pyparsing!=3.0.5,>=2.0.2 in c:\\users\\workstation\\anaconda3\\lib\\site-packages (from packaging>=20.0->spacy) (3.0.9)\n",
      "Requirement already satisfied: typing-extensions>=4.2.0 in c:\\users\\workstation\\anaconda3\\lib\\site-packages (from pydantic!=1.8,!=1.8.1,<1.11.0,>=1.7.4->spacy) (4.3.0)\n",
      "Requirement already satisfied: certifi>=2017.4.17 in c:\\users\\workstation\\anaconda3\\lib\\site-packages (from requests<3.0.0,>=2.13.0->spacy) (2022.9.14)\n",
      "Requirement already satisfied: idna<4,>=2.5 in c:\\users\\workstation\\anaconda3\\lib\\site-packages (from requests<3.0.0,>=2.13.0->spacy) (3.3)\n",
      "Requirement already satisfied: charset-normalizer<3,>=2 in c:\\users\\workstation\\anaconda3\\lib\\site-packages (from requests<3.0.0,>=2.13.0->spacy) (2.0.4)\n",
      "Requirement already satisfied: urllib3<1.27,>=1.21.1 in c:\\users\\workstation\\anaconda3\\lib\\site-packages (from requests<3.0.0,>=2.13.0->spacy) (1.26.11)\n",
      "Requirement already satisfied: blis<0.8.0,>=0.7.8 in c:\\users\\workstation\\anaconda3\\lib\\site-packages (from thinc<8.2.0,>=8.1.0->spacy) (0.7.9)\n",
      "Requirement already satisfied: confection<1.0.0,>=0.0.1 in c:\\users\\workstation\\anaconda3\\lib\\site-packages (from thinc<8.2.0,>=8.1.0->spacy) (0.0.4)\n",
      "Requirement already satisfied: colorama in c:\\users\\workstation\\anaconda3\\lib\\site-packages (from tqdm<5.0.0,>=4.38.0->spacy) (0.4.6)\n",
      "Requirement already satisfied: click<9.0.0,>=7.1.1 in c:\\users\\workstation\\anaconda3\\lib\\site-packages (from typer<0.8.0,>=0.3.0->spacy) (8.0.4)\n",
      "Requirement already satisfied: MarkupSafe>=0.23 in c:\\users\\workstation\\anaconda3\\lib\\site-packages (from jinja2->spacy) (2.0.1)\n"
     ]
    },
    {
     "name": "stdout",
     "output_type": "stream",
     "text": [
      "Requirement already satisfied: nltk in c:\\users\\workstation\\anaconda3\\lib\\site-packages (3.7)\n",
      "Requirement already satisfied: tqdm in c:\\users\\workstation\\anaconda3\\lib\\site-packages (from nltk) (4.64.1)\n",
      "Requirement already satisfied: joblib in c:\\users\\workstation\\anaconda3\\lib\\site-packages (from nltk) (1.2.0)\n",
      "Requirement already satisfied: click in c:\\users\\workstation\\anaconda3\\lib\\site-packages (from nltk) (8.0.4)\n",
      "Requirement already satisfied: regex>=2021.8.3 in c:\\users\\workstation\\anaconda3\\lib\\site-packages (from nltk) (2022.7.9)\n",
      "Requirement already satisfied: colorama in c:\\users\\workstation\\anaconda3\\lib\\site-packages (from click->nltk) (0.4.6)\n",
      "Requirement already satisfied: imblearn in c:\\users\\workstation\\anaconda3\\lib\\site-packages (0.0)\n",
      "Requirement already satisfied: imbalanced-learn in c:\\users\\workstation\\anaconda3\\lib\\site-packages (from imblearn) (0.10.1)\n",
      "Requirement already satisfied: threadpoolctl>=2.0.0 in c:\\users\\workstation\\anaconda3\\lib\\site-packages (from imbalanced-learn->imblearn) (2.2.0)\n",
      "Requirement already satisfied: joblib>=1.1.1 in c:\\users\\workstation\\anaconda3\\lib\\site-packages (from imbalanced-learn->imblearn) (1.2.0)\n",
      "Requirement already satisfied: numpy>=1.17.3 in c:\\users\\workstation\\anaconda3\\lib\\site-packages (from imbalanced-learn->imblearn) (1.21.5)\n",
      "Requirement already satisfied: scikit-learn>=1.0.2 in c:\\users\\workstation\\anaconda3\\lib\\site-packages (from imbalanced-learn->imblearn) (1.0.2)\n",
      "Requirement already satisfied: scipy>=1.3.2 in c:\\users\\workstation\\anaconda3\\lib\\site-packages (from imbalanced-learn->imblearn) (1.9.1)\n",
      "Collecting en-core-web-md==3.5.0\n",
      "  Downloading https://github.com/explosion/spacy-models/releases/download/en_core_web_md-3.5.0/en_core_web_md-3.5.0-py3-none-any.whl (42.8 MB)\n",
      "     ---------------------------------------- 42.8/42.8 MB 7.3 MB/s eta 0:00:00\n",
      "Requirement already satisfied: spacy<3.6.0,>=3.5.0 in c:\\users\\workstation\\anaconda3\\lib\\site-packages (from en-core-web-md==3.5.0) (3.5.0)\n",
      "Requirement already satisfied: wasabi<1.2.0,>=0.9.1 in c:\\users\\workstation\\anaconda3\\lib\\site-packages (from spacy<3.6.0,>=3.5.0->en-core-web-md==3.5.0) (1.1.1)\n",
      "Requirement already satisfied: numpy>=1.15.0 in c:\\users\\workstation\\anaconda3\\lib\\site-packages (from spacy<3.6.0,>=3.5.0->en-core-web-md==3.5.0) (1.21.5)\n",
      "Requirement already satisfied: requests<3.0.0,>=2.13.0 in c:\\users\\workstation\\anaconda3\\lib\\site-packages (from spacy<3.6.0,>=3.5.0->en-core-web-md==3.5.0) (2.28.1)\n",
      "Requirement already satisfied: langcodes<4.0.0,>=3.2.0 in c:\\users\\workstation\\anaconda3\\lib\\site-packages (from spacy<3.6.0,>=3.5.0->en-core-web-md==3.5.0) (3.3.0)\n",
      "Requirement already satisfied: cymem<2.1.0,>=2.0.2 in c:\\users\\workstation\\anaconda3\\lib\\site-packages (from spacy<3.6.0,>=3.5.0->en-core-web-md==3.5.0) (2.0.7)\n",
      "Requirement already satisfied: packaging>=20.0 in c:\\users\\workstation\\anaconda3\\lib\\site-packages (from spacy<3.6.0,>=3.5.0->en-core-web-md==3.5.0) (21.3)\n",
      "Requirement already satisfied: pydantic!=1.8,!=1.8.1,<1.11.0,>=1.7.4 in c:\\users\\workstation\\anaconda3\\lib\\site-packages (from spacy<3.6.0,>=3.5.0->en-core-web-md==3.5.0) (1.10.5)\n",
      "Requirement already satisfied: typer<0.8.0,>=0.3.0 in c:\\users\\workstation\\anaconda3\\lib\\site-packages (from spacy<3.6.0,>=3.5.0->en-core-web-md==3.5.0) (0.7.0)\n",
      "Requirement already satisfied: spacy-legacy<3.1.0,>=3.0.11 in c:\\users\\workstation\\anaconda3\\lib\\site-packages (from spacy<3.6.0,>=3.5.0->en-core-web-md==3.5.0) (3.0.12)\n",
      "Requirement already satisfied: smart-open<7.0.0,>=5.2.1 in c:\\users\\workstation\\anaconda3\\lib\\site-packages (from spacy<3.6.0,>=3.5.0->en-core-web-md==3.5.0) (5.2.1)\n",
      "Requirement already satisfied: spacy-loggers<2.0.0,>=1.0.0 in c:\\users\\workstation\\anaconda3\\lib\\site-packages (from spacy<3.6.0,>=3.5.0->en-core-web-md==3.5.0) (1.0.4)\n",
      "Requirement already satisfied: srsly<3.0.0,>=2.4.3 in c:\\users\\workstation\\anaconda3\\lib\\site-packages (from spacy<3.6.0,>=3.5.0->en-core-web-md==3.5.0) (2.4.5)\n",
      "Requirement already satisfied: jinja2 in c:\\users\\workstation\\anaconda3\\lib\\site-packages (from spacy<3.6.0,>=3.5.0->en-core-web-md==3.5.0) (2.11.3)\n",
      "Requirement already satisfied: pathy>=0.10.0 in c:\\users\\workstation\\anaconda3\\lib\\site-packages (from spacy<3.6.0,>=3.5.0->en-core-web-md==3.5.0) (0.10.1)\n",
      "Requirement already satisfied: murmurhash<1.1.0,>=0.28.0 in c:\\users\\workstation\\anaconda3\\lib\\site-packages (from spacy<3.6.0,>=3.5.0->en-core-web-md==3.5.0) (1.0.9)\n",
      "Requirement already satisfied: catalogue<2.1.0,>=2.0.6 in c:\\users\\workstation\\anaconda3\\lib\\site-packages (from spacy<3.6.0,>=3.5.0->en-core-web-md==3.5.0) (2.0.8)\n",
      "Requirement already satisfied: thinc<8.2.0,>=8.1.0 in c:\\users\\workstation\\anaconda3\\lib\\site-packages (from spacy<3.6.0,>=3.5.0->en-core-web-md==3.5.0) (8.1.7)\n",
      "Requirement already satisfied: tqdm<5.0.0,>=4.38.0 in c:\\users\\workstation\\anaconda3\\lib\\site-packages (from spacy<3.6.0,>=3.5.0->en-core-web-md==3.5.0) (4.64.1)\n",
      "Requirement already satisfied: setuptools in c:\\users\\workstation\\anaconda3\\lib\\site-packages (from spacy<3.6.0,>=3.5.0->en-core-web-md==3.5.0) (63.4.1)\n",
      "Requirement already satisfied: preshed<3.1.0,>=3.0.2 in c:\\users\\workstation\\anaconda3\\lib\\site-packages (from spacy<3.6.0,>=3.5.0->en-core-web-md==3.5.0) (3.0.8)\n",
      "Requirement already satisfied: pyparsing!=3.0.5,>=2.0.2 in c:\\users\\workstation\\anaconda3\\lib\\site-packages (from packaging>=20.0->spacy<3.6.0,>=3.5.0->en-core-web-md==3.5.0) (3.0.9)\n",
      "Requirement already satisfied: typing-extensions>=4.2.0 in c:\\users\\workstation\\anaconda3\\lib\\site-packages (from pydantic!=1.8,!=1.8.1,<1.11.0,>=1.7.4->spacy<3.6.0,>=3.5.0->en-core-web-md==3.5.0) (4.3.0)\n",
      "Requirement already satisfied: charset-normalizer<3,>=2 in c:\\users\\workstation\\anaconda3\\lib\\site-packages (from requests<3.0.0,>=2.13.0->spacy<3.6.0,>=3.5.0->en-core-web-md==3.5.0) (2.0.4)\n",
      "Requirement already satisfied: certifi>=2017.4.17 in c:\\users\\workstation\\anaconda3\\lib\\site-packages (from requests<3.0.0,>=2.13.0->spacy<3.6.0,>=3.5.0->en-core-web-md==3.5.0) (2022.9.14)\n",
      "Requirement already satisfied: urllib3<1.27,>=1.21.1 in c:\\users\\workstation\\anaconda3\\lib\\site-packages (from requests<3.0.0,>=2.13.0->spacy<3.6.0,>=3.5.0->en-core-web-md==3.5.0) (1.26.11)\n",
      "Requirement already satisfied: idna<4,>=2.5 in c:\\users\\workstation\\anaconda3\\lib\\site-packages (from requests<3.0.0,>=2.13.0->spacy<3.6.0,>=3.5.0->en-core-web-md==3.5.0) (3.3)\n",
      "Requirement already satisfied: confection<1.0.0,>=0.0.1 in c:\\users\\workstation\\anaconda3\\lib\\site-packages (from thinc<8.2.0,>=8.1.0->spacy<3.6.0,>=3.5.0->en-core-web-md==3.5.0) (0.0.4)\n",
      "Requirement already satisfied: blis<0.8.0,>=0.7.8 in c:\\users\\workstation\\anaconda3\\lib\\site-packages (from thinc<8.2.0,>=8.1.0->spacy<3.6.0,>=3.5.0->en-core-web-md==3.5.0) (0.7.9)\n",
      "Requirement already satisfied: colorama in c:\\users\\workstation\\anaconda3\\lib\\site-packages (from tqdm<5.0.0,>=4.38.0->spacy<3.6.0,>=3.5.0->en-core-web-md==3.5.0) (0.4.6)\n",
      "Requirement already satisfied: click<9.0.0,>=7.1.1 in c:\\users\\workstation\\anaconda3\\lib\\site-packages (from typer<0.8.0,>=0.3.0->spacy<3.6.0,>=3.5.0->en-core-web-md==3.5.0) (8.0.4)\n",
      "Requirement already satisfied: MarkupSafe>=0.23 in c:\\users\\workstation\\anaconda3\\lib\\site-packages (from jinja2->spacy<3.6.0,>=3.5.0->en-core-web-md==3.5.0) (2.0.1)\n",
      "\u001b[38;5;2m[+] Download and installation successful\u001b[0m\n",
      "You can now load the package via spacy.load('en_core_web_md')\n"
     ]
    }
   ],
   "source": [
    "!{sys.executable} -m pip install pandas_profiling\n",
    "!{sys.executable} -m pip install spacy\n",
    "!{sys.executable} -m pip install nltk\n",
    "!{sys.executable} -m pip install imblearn\n",
    "!{sys.executable} -m spacy download en_core_web_md"
   ]
  },
  {
   "cell_type": "code",
   "execution_count": null,
   "id": "b31edb74",
   "metadata": {},
   "outputs": [],
   "source": []
  },
  {
   "cell_type": "code",
   "execution_count": 13,
   "id": "4a234942",
   "metadata": {},
   "outputs": [],
   "source": [
    "### SECTION COPIED FROM PART 2, PLEASE REFER TO DESCRIPTION FOUND THERE\n",
    "\n",
    "df = pd.read_csv(PROJ_DIR + r\"\\sc1015-project\\dataset\\fake_job_postings.csv\")\n",
    "\n",
    "cleaned_text = pd.read_csv('lemmatized_text.csv').squeeze() # convert to pd series\n",
    "cleaned_text.head()\n",
    "vectorizer = TfidfVectorizer(ngram_range=(1, 2))\n",
    "vectorizer.fit(cleaned_text)\n",
    "tfidf_data = vectorizer.transform(cleaned_text)\n",
    "sss=StratifiedShuffleSplit(n_splits=1, random_state=RANDOM_SPLIT_SEED, test_size=0.2)\n",
    "X=np.zeros(shape=tfidf_data.shape[0],dtype=np.bool_)\n",
    "y=np.array(df['fraudulent']) #prediction target\n",
    "for train_index, test_index in sss.split(X, y):\n",
    "    X_train, X_test = tfidf_data[train_index,:], tfidf_data[test_index,:]\n",
    "    y_train, y_test = y[train_index], y[test_index]\n",
    "X_res, y_res = adasyn.fit_resample(X_train, y_train)"
   ]
  },
  {
   "cell_type": "markdown",
   "id": "e6a49dbf",
   "metadata": {},
   "source": [
    "Here, we use feature selection for dimensionality reduction. Specifically, the default selector will remove all zero variance features."
   ]
  },
  {
   "cell_type": "code",
   "execution_count": 18,
   "id": "ba2fd8ea",
   "metadata": {},
   "outputs": [
    {
     "name": "stdout",
     "output_type": "stream",
     "text": [
      "SelectFromModel(estimator=LinearSVC())\n"
     ]
    }
   ],
   "source": [
    "selector = SelectFromModel(estimator=LinearSVC()).fit(X_res, y_res)\n",
    "print(selector)\n",
    "X_select = selector.transform(X_res)\n",
    "X_select_test = selector.transform(X_test)"
   ]
  },
  {
   "cell_type": "code",
   "execution_count": null,
   "id": "14b6b490",
   "metadata": {},
   "outputs": [],
   "source": []
  },
  {
   "cell_type": "markdown",
   "id": "2629ad40",
   "metadata": {},
   "source": [
    "The SVC will be fitted here and the accuracy score will test the prediction against the labeled output data"
   ]
  },
  {
   "cell_type": "code",
   "execution_count": 22,
   "id": "5afbdc57",
   "metadata": {},
   "outputs": [
    {
     "name": "stdout",
     "output_type": "stream",
     "text": [
      "SVC train accuracy score: 0.9998529303625266\n",
      "SVC test accuracy score : 0.9876957494407159\n"
     ]
    }
   ],
   "source": [
    "svc = LinearSVC().fit(X_select, y_res)\n",
    "train_pred = svc.predict(X_select)\n",
    "test_pred = svc.predict(X_select_test)\n",
    "print(f\"SVC train accuracy score: {accuracy_score(train_pred,y_res)}\")\n",
    "print(f\"SVC test accuracy score : {accuracy_score(test_pred,y_test)}\")\n"
   ]
  },
  {
   "cell_type": "markdown",
   "id": "dc544553",
   "metadata": {},
   "source": [
    "It can be observed that the classification accuracy is very high for both train and test datasets."
   ]
  },
  {
   "cell_type": "code",
   "execution_count": 30,
   "id": "491335c4",
   "metadata": {},
   "outputs": [
    {
     "data": {
      "image/png": "[encoded data removed]",
      "text/plain": [
       "<Figure size 640x480 with 2 Axes>"
      ]
     },
     "metadata": {},
     "output_type": "display_data"
    },
    {
     "name": "stdout",
     "output_type": "stream",
     "text": [
      "True Positive Rate: 0.7630057803468208\n",
      "True Negative Rate: 0.9991184249191889\n",
      "False Positive Rate: 0.000881575080811049\n",
      "False Negative Rate: 0.23699421965317918\n",
      "Accuracy: 0.9876957494407159\n"
     ]
    }
   ],
   "source": [
    "# Calculate the confusion matrix\n",
    "cm = confusion_matrix(y_test, test_pred)\n",
    "\n",
    "# Define the class labels\n",
    "class_names = ['Real', 'Fake']\n",
    "\n",
    "# Create a heatmap of the confusion matrix\n",
    "sb.heatmap(cm, annot=True, fmt='d', cmap='Blues', xticklabels=class_names, yticklabels=class_names)\n",
    "\n",
    "# Set the axis labels and title\n",
    "plt.xlabel('Predicted')\n",
    "plt.ylabel('Actual')\n",
    "plt.title('Confusion Matrix')\n",
    "\n",
    "# Display the plot\n",
    "plt.show()\n",
    "\n",
    "TP = cm[1, 1]\n",
    "TN = cm[0, 0]\n",
    "FP = cm[0, 1]\n",
    "FN = cm[1, 0]\n",
    "\n",
    "TPR = TP / (TP + FN)\n",
    "print(\"True Positive Rate:\", TPR)\n",
    "TNR = TN / (TN + FP) \n",
    "print(\"True Negative Rate:\", TNR)\n",
    "FPR = FP / (FP + TN)\n",
    "print(\"False Positive Rate:\", FPR)\n",
    "FNR = FN / (TP + FN)\n",
    "print(\"False Negative Rate:\", FNR)\n",
    "ACC = (TP + TN) / (TP + FP + FN + TN)\n",
    "print(\"Accuracy:\", ACC)"
   ]
  },
  {
   "cell_type": "markdown",
   "id": "0602ff27",
   "metadata": {},
   "source": [
    "Shown above is the confusion matrix for the TEST set. It can be observed that all stats are very good, except for the true positive rate (i.e is fraudulent) which is 0.76. One of the reasons could be that there exist much fewer examples of fraudulent in the dataset."
   ]
  },
  {
   "cell_type": "code",
   "execution_count": null,
   "id": "21566833",
   "metadata": {},
   "outputs": [],
   "source": []
  }
 ],
 "metadata": {
  "kernelspec": {
   "display_name": "Python 3 (ipykernel)",
   "language": "python",
   "name": "python3"
  },
  "language_info": {
   "codemirror_mode": {
    "name": "ipython",
    "version": 3
   },
   "file_extension": ".py",
   "mimetype": "text/x-python",
   "name": "python",
   "nbconvert_exporter": "python",
   "pygments_lexer": "ipython3",
   "version": "3.9.13"
  }
 },
 "nbformat": 4,
 "nbformat_minor": 5
}
