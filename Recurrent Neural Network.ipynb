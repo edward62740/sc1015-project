{
 "cells": [
  {
   "cell_type": "markdown",
   "id": "a383dbf9",
   "metadata": {},
   "source": [
    "# Part 4: Recurrent Neural Network\n",
    "\n",
    "### In this section, the cleaned text will be converted to a suitable form using one-hot encoding, then used to train a RNN with LSTM layer.\n",
    "\n",
    "### This section will also explore and test different methods of fine-tuning the RNN and evaluating its effectiveness"
   ]
  },
  {
   "cell_type": "code",
   "execution_count": null,
   "id": "b26f6696",
   "metadata": {},
   "outputs": [],
   "source": [
    "import sys\n",
    "!{sys.executable} -m pip install pandas_profiling\n",
    "!{sys.executable} -m pip install spacy\n",
    "!{sys.executable} -m pip install nltk\n",
    "!{sys.executable} -m pip install imblearn\n",
    "!{sys.executable} -m pip install scikit-learn-intelex\n",
    "!{sys.executable} -m pip install tensorflow\n",
    "!{sys.executable} -m spacy download en_core_web_md\n",
    "!{sys.executable} -m pip install wget\n",
    "!{sys.executable} -m pip install unzip"
   ]
  },
  {
   "cell_type": "code",
   "execution_count": 102,
   "id": "9eb694f4",
   "metadata": {},
   "outputs": [],
   "source": [
    "!{sys.executable} -m wget http://nlp.stanford.edu/data/glove.6B.zip"
   ]
  },
  {
   "cell_type": "code",
   "execution_count": 1,
   "id": "2a5cad6f",
   "metadata": {},
   "outputs": [],
   "source": [
    "import numpy as np\n",
    "import pandas as pd\n",
    "import matplotlib.pyplot as plt\n",
    "import seaborn as sb\n",
    "import spacy\n",
    "import nltk\n",
    "import re\n",
    "from sklearn import metrics\n",
    "from sklearn.feature_extraction.text import TfidfVectorizer\n",
    "from sklearn.model_selection import StratifiedShuffleSplit\n",
    "from imblearn.over_sampling import ADASYN, SMOTE\n",
    "from sklearn.feature_selection import SelectFromModel\n",
    "from sklearn.feature_selection import VarianceThreshold\n",
    "from sklearn.metrics import accuracy_score\n",
    "from sklearn.metrics import confusion_matrix\n",
    "import tensorflow as tf\n",
    "tf.__version__\n",
    "from tensorflow.keras.layers import Embedding\n",
    "from tensorflow.keras.preprocessing.sequence import pad_sequences\n",
    "from tensorflow.keras.models import Sequential\n",
    "from tensorflow.keras.preprocessing.text import one_hot\n",
    "from tensorflow.keras.layers import LSTM\n",
    "from tensorflow.keras.layers import Dense\n",
    "from tensorflow.keras.layers import Bidirectional\n",
    "from tensorflow.keras.layers import Dropout,Conv1D, MaxPooling1D, GlobalMaxPooling1D\n",
    "from tensorflow.keras.preprocessing.text import one_hot, Tokenizer\n",
    "from keras.callbacks import EarlyStopping, ModelCheckpoint\n",
    "from keras.preprocessing.text import Tokenizer\n",
    "\n",
    "adasyn=ADASYN()\n",
    "sb.set()\n",
    "\n",
    "\"\"\" NOTE: SET YOUR PROJECT ROOT DIRECTORY HERE \"\"\"\n",
    "PROJ_DIR = r\"\"\n",
    "RANDOM_SPLIT_SEED = 11\n",
    "MAX_FEATURES = 50000\n",
    "MAX_LEN = 200"
   ]
  },
  {
   "cell_type": "markdown",
   "id": "c3cc4265",
   "metadata": {},
   "source": [
    "#### The pre-processed text is read from csv"
   ]
  },
  {
   "cell_type": "code",
   "execution_count": 2,
   "id": "f9461b36",
   "metadata": {},
   "outputs": [],
   "source": [
    "df = pd.read_csv(PROJ_DIR + r\"\\sc1015-project\\dataset\\fake_job_postings.csv\")\n",
    "\n",
    "cleaned_text = pd.read_csv('lemmatized_text.csv').squeeze() # convert to pd series\n"
   ]
  },
  {
   "cell_type": "markdown",
   "id": "3f3bd7d8",
   "metadata": {},
   "source": [
    "#### Use GloVe model for embedding layer"
   ]
  },
  {
   "cell_type": "code",
   "execution_count": 3,
   "id": "83d4712c",
   "metadata": {},
   "outputs": [],
   "source": [
    "embeddings_index = {}\n",
    "with open('glove_embeddings/glove.6B.100d.txt', 'r', encoding='utf-8') as f:\n",
    "    for line in f:\n",
    "        values = line.split()\n",
    "        word = values[0]\n",
    "        vector = np.asarray(values[1:], dtype='float32')\n",
    "        embeddings_index[word] = vector"
   ]
  },
  {
   "cell_type": "markdown",
   "id": "e9c6d556",
   "metadata": {},
   "source": [
    "#### Next, the text will be tokenized"
   ]
  },
  {
   "cell_type": "code",
   "execution_count": 4,
   "id": "e115276c",
   "metadata": {},
   "outputs": [],
   "source": [
    "tokenizer = Tokenizer(num_words=MAX_FEATURES)\n",
    "tokenizer.fit_on_texts(cleaned_text)\n",
    "word_index = tokenizer.word_index\n",
    "sequences = tokenizer.texts_to_sequences(cleaned_text)\n",
    "ml_seq = pad_sequences(sequences, maxlen=MAX_LEN)"
   ]
  },
  {
   "cell_type": "markdown",
   "id": "d0a31e11",
   "metadata": {},
   "source": [
    "#### Form embedding matrix to be used in the RNN"
   ]
  },
  {
   "cell_type": "code",
   "execution_count": 10,
   "id": "1312f770",
   "metadata": {},
   "outputs": [],
   "source": [
    "num_words = min(MAX_FEATURES, len(word_index) + 1)\n",
    "embedding_matrix = np.zeros((num_words, EMBEDDING_DIM))\n",
    "for word, i in word_index.items():\n",
    "    if i >= MAX_FEATURES:\n",
    "        continue\n",
    "    embedding_vector = embeddings_index.get(word)\n",
    "    if embedding_vector is not None:\n",
    "        embedding_matrix[i] = embedding_vector"
   ]
  },
  {
   "cell_type": "code",
   "execution_count": null,
   "id": "7b051bc9",
   "metadata": {},
   "outputs": [],
   "source": []
  },
  {
   "cell_type": "markdown",
   "id": "0507f0ab",
   "metadata": {},
   "source": [
    "#### The resulting padded data is split and the train set is resampled with ADASYN to compensate class imbalance"
   ]
  },
  {
   "cell_type": "code",
   "execution_count": 11,
   "id": "1572007e",
   "metadata": {},
   "outputs": [],
   "source": [
    "sss=StratifiedShuffleSplit(n_splits=1, random_state=RANDOM_SPLIT_SEED, test_size=0.2)\n",
    "X=np.zeros(shape=ml_seq.shape[0],dtype=np.bool_)\n",
    "y=np.array(df['fraudulent']) # prediction target\n",
    "for train_index, test_index in sss.split(X, y):\n",
    "    X_train, X_test = ml_seq[train_index,:], ml_seq[test_index,:]\n",
    "    y_train, y_test = y[train_index], y[test_index]\n",
    "\n",
    "X_res, y_res = adasyn.fit_resample(X_train, y_train)\n",
    "#smote = SMOTE(random_state=42)\n",
    "#X_resampled, y_resampled = smote.fit_resample(X_train, y_train)"
   ]
  },
  {
   "cell_type": "markdown",
   "id": "44b9e1d4",
   "metadata": {},
   "source": [
    "### Here the layers of the RNN are defined here.\n",
    "\n",
    "#### The embedded layer uses a non-trainable matrix as defined previously, derived from the GloVe model,\n",
    "#### followed by a bi-directional LSTM to help with memory in time domain,\n",
    "#### followed by a max pooling layer to summarize max vals in time domain,\n",
    "#### then 3 successive layers of dense and dropout"
   ]
  },
  {
   "cell_type": "code",
   "execution_count": 12,
   "id": "5ffc75c8",
   "metadata": {},
   "outputs": [
    {
     "name": "stdout",
     "output_type": "stream",
     "text": [
      "Model: \"sequential_2\"\n",
      "_________________________________________________________________\n",
      " Layer (type)                Output Shape              Param #   \n",
      "=================================================================\n",
      " embedding_1 (Embedding)     (None, 200, 100)          5000000   \n",
      "                                                                 \n",
      " bidirectional (Bidirectiona  (None, 200, 256)         234496    \n",
      " l)                                                              \n",
      "                                                                 \n",
      " global_max_pooling1d (Globa  (None, 256)              0         \n",
      " lMaxPooling1D)                                                  \n",
      "                                                                 \n",
      " dense (Dense)               (None, 64)                16448     \n",
      "                                                                 \n",
      " dropout (Dropout)           (None, 64)                0         \n",
      "                                                                 \n",
      " dense_1 (Dense)             (None, 32)                2080      \n",
      "                                                                 \n",
      " dropout_1 (Dropout)         (None, 32)                0         \n",
      "                                                                 \n",
      " dense_2 (Dense)             (None, 16)                528       \n",
      "                                                                 \n",
      " dropout_2 (Dropout)         (None, 16)                0         \n",
      "                                                                 \n",
      " dense_3 (Dense)             (None, 1)                 17        \n",
      "                                                                 \n",
      "=================================================================\n",
      "Total params: 5,253,569\n",
      "Trainable params: 253,569\n",
      "Non-trainable params: 5,000,000\n",
      "_________________________________________________________________\n",
      "None\n"
     ]
    }
   ],
   "source": [
    "model = Sequential()\n",
    "model.add(Embedding(MAX_FEATURES, EMBEDDING_DIM, weights=[embedding_matrix], input_length=MAX_LEN, trainable=False))\n",
    "model.add(Bidirectional(LSTM(128,return_sequences=True)))\n",
    "model.add(GlobalMaxPooling1D())\n",
    "model.add(Dense(64, activation='relu'))\n",
    "model.add(Dropout(0.3))\n",
    "model.add(Dense(32, activation='relu'))\n",
    "model.add(Dropout(0.2))\n",
    "model.add(Dense(16, activation='relu'))\n",
    "model.add(Dropout(0.1))\n",
    "model.add(Dense(1, activation='sigmoid'))\n",
    "model.compile(optimizer='adam',\n",
    "              loss='binary_crossentropy',\n",
    "              metrics=['accuracy'])\n",
    "print(model.summary())\n"
   ]
  },
  {
   "cell_type": "code",
   "execution_count": 13,
   "id": "d0d9e420",
   "metadata": {},
   "outputs": [
    {
     "name": "stdout",
     "output_type": "stream",
     "text": [
      "Epoch 1/15\n",
      "423/423 [==============================] - ETA: 0s - loss: 0.2140 - accuracy: 0.9142\n",
      "Epoch 1: val_loss improved from inf to 0.12672, saving model to rnn_weights.h5\n",
      "423/423 [==============================] - 337s 792ms/step - loss: 0.2140 - accuracy: 0.9142 - val_loss: 0.1267 - val_accuracy: 0.9597\n",
      "Epoch 2/15\n",
      "423/423 [==============================] - ETA: 0s - loss: 0.0895 - accuracy: 0.9726\n",
      "Epoch 2: val_loss improved from 0.12672 to 0.09596, saving model to rnn_weights.h5\n",
      "423/423 [==============================] - 334s 790ms/step - loss: 0.0895 - accuracy: 0.9726 - val_loss: 0.0960 - val_accuracy: 0.9734\n",
      "Epoch 3/15\n",
      "423/423 [==============================] - ETA: 0s - loss: 0.0626 - accuracy: 0.9813\n",
      "Epoch 3: val_loss improved from 0.09596 to 0.08244, saving model to rnn_weights.h5\n",
      "423/423 [==============================] - 320s 758ms/step - loss: 0.0626 - accuracy: 0.9813 - val_loss: 0.0824 - val_accuracy: 0.9748\n",
      "Epoch 4/15\n",
      "423/423 [==============================] - ETA: 0s - loss: 0.0432 - accuracy: 0.9876\n",
      "Epoch 4: val_loss did not improve from 0.08244\n",
      "423/423 [==============================] - 312s 738ms/step - loss: 0.0432 - accuracy: 0.9876 - val_loss: 0.0878 - val_accuracy: 0.9785\n",
      "Epoch 5/15\n",
      "423/423 [==============================] - ETA: 0s - loss: 0.0362 - accuracy: 0.9894\n",
      "Epoch 5: val_loss improved from 0.08244 to 0.07212, saving model to rnn_weights.h5\n",
      "423/423 [==============================] - 315s 745ms/step - loss: 0.0362 - accuracy: 0.9894 - val_loss: 0.0721 - val_accuracy: 0.9768\n",
      "Epoch 6/15\n",
      "423/423 [==============================] - ETA: 0s - loss: 0.0286 - accuracy: 0.9910\n",
      "Epoch 6: val_loss improved from 0.07212 to 0.06591, saving model to rnn_weights.h5\n",
      "423/423 [==============================] - 308s 728ms/step - loss: 0.0286 - accuracy: 0.9910 - val_loss: 0.0659 - val_accuracy: 0.9801\n",
      "Epoch 7/15\n",
      "423/423 [==============================] - ETA: 0s - loss: 0.0210 - accuracy: 0.9936\n",
      "Epoch 7: val_loss did not improve from 0.06591\n",
      "423/423 [==============================] - 313s 740ms/step - loss: 0.0210 - accuracy: 0.9936 - val_loss: 0.0838 - val_accuracy: 0.9720\n",
      "Epoch 8/15\n",
      "423/423 [==============================] - ETA: 0s - loss: 0.0184 - accuracy: 0.9942\n",
      "Epoch 8: val_loss did not improve from 0.06591\n",
      "423/423 [==============================] - 310s 733ms/step - loss: 0.0184 - accuracy: 0.9942 - val_loss: 0.0665 - val_accuracy: 0.9793\n",
      "Epoch 8: early stopping\n"
     ]
    },
    {
     "data": {
      "image/png": "[encoded data removed]",
      "text/plain": [
       "<Figure size 640x480 with 1 Axes>"
      ]
     },
     "metadata": {},
     "output_type": "display_data"
    }
   ],
   "source": [
    "# Define the callbacks\n",
    "early_stop = EarlyStopping(monitor='val_loss', patience=2, verbose=1, mode='min')\n",
    "model_checkpoint = ModelCheckpoint('rnn_weights.h5', save_best_only=True, save_weights_only=True, monitor='val_loss', mode='min', verbose=1)\n",
    "\n",
    "hist = model.fit(X_res,y_res,validation_data=(X_test,y_test),epochs=15,batch_size=64, callbacks=[early_stop, model_checkpoint])\n",
    "# Load the best model weights\n",
    "model.load_weights('rnn_weights.h5')\n",
    "\n",
    "plt.plot(hist.history['val_loss'], color='b', label=\"validation loss\")\n",
    "plt.plot(hist.history['loss'], color='red', label=\"loss\")\n",
    "plt.title(\"Model Loss\")\n",
    "plt.xlabel(\"Number of Epochs\")\n",
    "plt.ylabel(\"Loss\")\n",
    "plt.legend()\n",
    "plt.show()"
   ]
  },
  {
   "cell_type": "code",
   "execution_count": 14,
   "id": "2ca2eb50",
   "metadata": {},
   "outputs": [
    {
     "name": "stdout",
     "output_type": "stream",
     "text": [
      "56/56 [==============================] - 5s 80ms/step\n",
      "RNN test accuracy score : 0.9801454138702461\n"
     ]
    }
   ],
   "source": [
    "test_probs = model.predict(X_test, batch_size=64)\n",
    "test_preds = (test_probs >= 0.5).astype(int)\n",
    "\n",
    "test_accuracy = accuracy_score(y_test, test_preds)\n",
    "\n",
    "print(f\"RNN test accuracy score : {test_accuracy}\")"
   ]
  },
  {
   "cell_type": "code",
   "execution_count": 15,
   "id": "d4facb66",
   "metadata": {},
   "outputs": [
    {
     "data": {
      "image/png": "[encoded data removed]",
      "text/plain": [
       "<Figure size 640x480 with 2 Axes>"
      ]
     },
     "metadata": {},
     "output_type": "display_data"
    },
    {
     "name": "stdout",
     "output_type": "stream",
     "text": [
      "True Positive Rate: 0.7052023121387283\n",
      "True Negative Rate: 0.994122832794593\n",
      "False Positive Rate: 0.0058771672054069935\n",
      "False Negative Rate: 0.2947976878612717\n",
      "Accuracy: 0.9801454138702461\n",
      "              precision    recall  f1-score   support\n",
      "\n",
      "           0       0.99      0.99      0.99      3403\n",
      "           1       0.86      0.71      0.77       173\n",
      "\n",
      "    accuracy                           0.98      3576\n",
      "   macro avg       0.92      0.85      0.88      3576\n",
      "weighted avg       0.98      0.98      0.98      3576\n",
      "\n"
     ]
    }
   ],
   "source": [
    "# Calculate the confusion matrix\n",
    "cm = confusion_matrix(y_test, test_preds)\n",
    "\n",
    "# Define the class labels\n",
    "class_names = ['Real', 'Fake']\n",
    "\n",
    "# Create a heatmap of the confusion matrix\n",
    "sb.heatmap(cm, annot=True, fmt='d', cmap='Blues', xticklabels=class_names, yticklabels=class_names)\n",
    "\n",
    "# Set the axis labels and title\n",
    "plt.xlabel('Predicted')\n",
    "plt.ylabel('Actual')\n",
    "plt.title('Confusion Matrix')\n",
    "\n",
    "# Display the plot\n",
    "plt.show()\n",
    "\n",
    "TP = cm[1, 1]\n",
    "TN = cm[0, 0]\n",
    "FP = cm[0, 1]\n",
    "FN = cm[1, 0]\n",
    "\n",
    "TPR = TP / (TP + FN)\n",
    "print(\"True Positive Rate:\", TPR)\n",
    "TNR = TN / (TN + FP) \n",
    "print(\"True Negative Rate:\", TNR)\n",
    "FPR = FP / (FP + TN)\n",
    "print(\"False Positive Rate:\", FPR)\n",
    "FNR = FN / (TP + FN)\n",
    "print(\"False Negative Rate:\", FNR)\n",
    "ACC = (TP + TN) / (TP + FP + FN + TN)\n",
    "print(\"Accuracy:\", ACC)\n",
    "\n",
    "print(metrics.classification_report(y_test, test_preds))"
   ]
  },
  {
   "cell_type": "code",
   "execution_count": null,
   "id": "a58b3457",
   "metadata": {},
   "outputs": [],
   "source": []
  }
 ],
 "metadata": {
  "kernelspec": {
   "display_name": "Python 3 (ipykernel)",
   "language": "python",
   "name": "python3"
  },
  "language_info": {
   "codemirror_mode": {
    "name": "ipython",
    "version": 3
   },
   "file_extension": ".py",
   "mimetype": "text/x-python",
   "name": "python",
   "nbconvert_exporter": "python",
   "pygments_lexer": "ipython3",
   "version": "3.9.13"
  }
 },
 "nbformat": 4,
 "nbformat_minor": 5
}
