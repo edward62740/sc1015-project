{
 "cells": [
  {
   "cell_type": "markdown",
   "id": "a383dbf9",
   "metadata": {},
   "source": [
    "# Part 5: Recurrent Neural Network\n",
    "\n",
    "### In this section, the cleaned text will be converted to a suitable form using one-hot encoding, then used to train a RNN with LSTM layer.\n",
    "\n",
    "### This section will also explore and test different methods of fine-tuning the RNN and evaluating its effectiveness"
   ]
  },
  {
   "cell_type": "code",
   "execution_count": null,
   "id": "b26f6696",
   "metadata": {},
   "outputs": [],
   "source": [
    "import sys\n",
    "!{sys.executable} -m pip install pandas_profiling\n",
    "!{sys.executable} -m pip install spacy\n",
    "!{sys.executable} -m pip install nltk\n",
    "!{sys.executable} -m pip install imblearn\n",
    "!{sys.executable} -m pip install scikit-learn-intelex\n",
    "!{sys.executable} -m pip install tensorflow\n",
    "!{sys.executable} -m spacy download en_core_web_md\n",
    "!{sys.executable} -m pip install wget\n",
    "!{sys.executable} -m pip install unzip"
   ]
  },
  {
   "cell_type": "code",
   "execution_count": 102,
   "id": "880c273d",
   "metadata": {},
   "outputs": [],
   "source": [
    "!{sys.executable} -m wget http://nlp.stanford.edu/data/glove.6B.zip"
   ]
  },
  {
   "cell_type": "code",
   "execution_count": 1,
   "id": "2a5cad6f",
   "metadata": {},
   "outputs": [],
   "source": [
    "import numpy as np\n",
    "import pandas as pd\n",
    "import matplotlib.pyplot as plt\n",
    "import seaborn as sb\n",
    "import spacy\n",
    "import nltk\n",
    "import re\n",
    "from sklearn import metrics\n",
    "from sklearn.feature_extraction.text import TfidfVectorizer\n",
    "from sklearn.model_selection import StratifiedShuffleSplit\n",
    "from imblearn.over_sampling import ADASYN, SMOTE\n",
    "from sklearn.feature_selection import SelectFromModel\n",
    "from sklearn.feature_selection import VarianceThreshold\n",
    "from sklearn.metrics import accuracy_score\n",
    "from sklearn.metrics import confusion_matrix\n",
    "import tensorflow as tf\n",
    "tf.__version__\n",
    "from tensorflow.keras.layers import Embedding\n",
    "from tensorflow.keras.preprocessing.sequence import pad_sequences\n",
    "from tensorflow.keras.models import Sequential\n",
    "from tensorflow.keras.preprocessing.text import one_hot\n",
    "from tensorflow.keras.layers import LSTM\n",
    "from tensorflow.keras.layers import Dense\n",
    "from tensorflow.keras.layers import Bidirectional\n",
    "from tensorflow.keras.layers import Dropout,Conv1D, MaxPooling1D, GlobalMaxPooling1D\n",
    "from keras.regularizers import l2\n",
    "from tensorflow.keras.preprocessing.text import one_hot, Tokenizer\n",
    "from keras.callbacks import EarlyStopping, ModelCheckpoint\n",
    "from keras.preprocessing.text import Tokenizer\n",
    "\n",
    "adasyn=ADASYN()\n",
    "sb.set()\n",
    "\n",
    "\"\"\" NOTE: SET YOUR PROJECT ROOT DIRECTORY HERE \"\"\"\n",
    "PROJ_DIR = r\"\"\n",
    "RANDOM_SPLIT_SEED = 11\n",
    "MAX_FEATURES = 50000\n",
    "MAX_LEN = 200\n",
    "EMBEDDING_DIM = 100"
   ]
  },
  {
   "cell_type": "markdown",
   "id": "c3cc4265",
   "metadata": {},
   "source": [
    "#### The pre-processed text is read from csv"
   ]
  },
  {
   "cell_type": "code",
   "execution_count": 2,
   "id": "f9461b36",
   "metadata": {},
   "outputs": [],
   "source": [
    "df = pd.read_csv(PROJ_DIR + r\"\\sc1015-project\\dataset\\fake_job_postings.csv\")\n",
    "\n",
    "cleaned_text = pd.read_csv('lemmatized_text.csv').squeeze() # convert to pd series\n"
   ]
  },
  {
   "cell_type": "markdown",
   "id": "d074d3aa",
   "metadata": {},
   "source": [
    "#### Use GloVe model for embedding layer"
   ]
  },
  {
   "cell_type": "code",
   "execution_count": 3,
   "id": "b85cb4f0",
   "metadata": {},
   "outputs": [],
   "source": [
    "embeddings_index = {}\n",
    "with open('glove_embeddings/glove.6B.100d.txt', 'r', encoding='utf-8') as f:\n",
    "    for line in f:\n",
    "        values = line.split()\n",
    "        word = values[0]\n",
    "        vector = np.asarray(values[1:], dtype='float32')\n",
    "        embeddings_index[word] = vector"
   ]
  },
  {
   "cell_type": "markdown",
   "id": "e9c6d556",
   "metadata": {},
   "source": [
    "#### Next, the text will be tokenized"
   ]
  },
  {
   "cell_type": "code",
   "execution_count": 4,
   "id": "e115276c",
   "metadata": {},
   "outputs": [],
   "source": [
    "tokenizer = Tokenizer(num_words=MAX_FEATURES)\n",
    "tokenizer.fit_on_texts(cleaned_text)\n",
    "word_index = tokenizer.word_index\n",
    "sequences = tokenizer.texts_to_sequences(cleaned_text)\n",
    "ml_seq = pad_sequences(sequences, maxlen=MAX_LEN)"
   ]
  },
  {
   "cell_type": "markdown",
   "id": "0f94f03b",
   "metadata": {},
   "source": [
    "#### Form embedding matrix to be used in the RNN"
   ]
  },
  {
   "cell_type": "code",
   "execution_count": 5,
   "id": "1312f770",
   "metadata": {},
   "outputs": [],
   "source": [
    "num_words = min(MAX_FEATURES, len(word_index) + 1)\n",
    "embedding_matrix = np.zeros((num_words, EMBEDDING_DIM))\n",
    "for word, i in word_index.items():\n",
    "    if i >= MAX_FEATURES:\n",
    "        continue\n",
    "    embedding_vector = embeddings_index.get(word)\n",
    "    if embedding_vector is not None:\n",
    "        embedding_matrix[i] = embedding_vector"
   ]
  },
  {
   "cell_type": "code",
   "execution_count": null,
   "id": "7b051bc9",
   "metadata": {},
   "outputs": [],
   "source": []
  },
  {
   "cell_type": "markdown",
   "id": "0507f0ab",
   "metadata": {},
   "source": [
    "#### The resulting padded data is split and the train set is resampled with ADASYN to compensate class imbalance"
   ]
  },
  {
   "cell_type": "code",
   "execution_count": 6,
   "id": "1572007e",
   "metadata": {},
   "outputs": [],
   "source": [
    "sss=StratifiedShuffleSplit(n_splits=1, random_state=RANDOM_SPLIT_SEED, test_size=0.2)\n",
    "X=np.zeros(shape=ml_seq.shape[0],dtype=np.bool_)\n",
    "y=np.array(df['fraudulent']) # prediction target\n",
    "for train_index, test_index in sss.split(X, y):\n",
    "    X_train, X_test = ml_seq[train_index,:], ml_seq[test_index,:]\n",
    "    y_train, y_test = y[train_index], y[test_index]\n",
    "\n",
    "X_res, y_res = adasyn.fit_resample(X_train, y_train)\n",
    "#smote = SMOTE(random_state=42)\n",
    "#X_resampled, y_resampled = smote.fit_resample(X_train, y_train)"
   ]
  },
  {
   "cell_type": "markdown",
   "id": "412482e1",
   "metadata": {},
   "source": [
    "### Here the layers of the RNN are defined here.\n",
    "\n",
    "#### The embedded layer uses a non-trainable matrix as defined previously, derived from the GloVe model,\n",
    "#### followed by a bi-directional LSTM to help with memory in time domain,\n",
    "#### followed by a max pooling layer to summarize max vals in time domain,\n",
    "#### then 3 successive layers of dense and dropout"
   ]
  },
  {
   "cell_type": "code",
   "execution_count": 31,
   "id": "5ffc75c8",
   "metadata": {},
   "outputs": [
    {
     "name": "stdout",
     "output_type": "stream",
     "text": [
      "Model: \"sequential_11\"\n",
      "_________________________________________________________________\n",
      " Layer (type)                Output Shape              Param #   \n",
      "=================================================================\n",
      " embedding_11 (Embedding)    (None, 200, 100)          5000000   \n",
      "                                                                 \n",
      " bidirectional_17 (Bidirecti  (None, 200, 128)         84480     \n",
      " onal)                                                           \n",
      "                                                                 \n",
      " global_max_pooling1d_10 (Gl  (None, 128)              0         \n",
      " obalMaxPooling1D)                                               \n",
      "                                                                 \n",
      " dense_42 (Dense)            (None, 256)               33024     \n",
      "                                                                 \n",
      " dropout_33 (Dropout)        (None, 256)               0         \n",
      "                                                                 \n",
      " dense_43 (Dense)            (None, 128)               32896     \n",
      "                                                                 \n",
      " dropout_34 (Dropout)        (None, 128)               0         \n",
      "                                                                 \n",
      " dense_44 (Dense)            (None, 64)                8256      \n",
      "                                                                 \n",
      " dropout_35 (Dropout)        (None, 64)                0         \n",
      "                                                                 \n",
      " dense_45 (Dense)            (None, 1)                 65        \n",
      "                                                                 \n",
      "=================================================================\n",
      "Total params: 5,158,721\n",
      "Trainable params: 158,721\n",
      "Non-trainable params: 5,000,000\n",
      "_________________________________________________________________\n",
      "None\n"
     ]
    }
   ],
   "source": [
    "model = Sequential()\n",
    "model.add(Embedding(MAX_FEATURES, EMBEDDING_DIM, weights=[embedding_matrix], input_length=MAX_LEN, trainable=False))\n",
    "model.add(Bidirectional(LSTM(64,return_sequences=True)))\n",
    "model.add(GlobalMaxPooling1D())\n",
    "model.add(Dense(256, activation='relu'))\n",
    "model.add(Dropout(0.3))\n",
    "model.add(Dense(128, activation='relu'))\n",
    "model.add(Dropout(0.2))\n",
    "model.add(Dense(64, activation='relu'))\n",
    "model.add(Dropout(0.1))\n",
    "model.add(Dense(1, activation='sigmoid'))\n",
    "model.compile(optimizer='adam',\n",
    "              loss='binary_crossentropy',\n",
    "              metrics=['accuracy'])\n",
    "print(model.summary())\n"
   ]
  },
  {
   "cell_type": "code",
   "execution_count": 32,
   "id": "d0d9e420",
   "metadata": {},
   "outputs": [
    {
     "name": "stdout",
     "output_type": "stream",
     "text": [
      "Epoch 1/50\n",
      "423/423 [==============================] - ETA: 0s - loss: 0.1534 - accuracy: 0.9372\n",
      "Epoch 1: val_loss improved from inf to 0.16975, saving model to rnn_weights.h5\n",
      "423/423 [==============================] - 72s 166ms/step - loss: 0.1534 - accuracy: 0.9372 - val_loss: 0.1698 - val_accuracy: 0.9396\n",
      "Epoch 2/50\n",
      "423/423 [==============================] - ETA: 0s - loss: 0.0619 - accuracy: 0.9814\n",
      "Epoch 2: val_loss improved from 0.16975 to 0.12125, saving model to rnn_weights.h5\n",
      "423/423 [==============================] - 79s 186ms/step - loss: 0.0619 - accuracy: 0.9814 - val_loss: 0.1212 - val_accuracy: 0.9600\n",
      "Epoch 3/50\n",
      "423/423 [==============================] - ETA: 0s - loss: 0.0460 - accuracy: 0.9861\n",
      "Epoch 3: val_loss improved from 0.12125 to 0.07925, saving model to rnn_weights.h5\n",
      "423/423 [==============================] - 83s 196ms/step - loss: 0.0460 - accuracy: 0.9861 - val_loss: 0.0792 - val_accuracy: 0.9757\n",
      "Epoch 4/50\n",
      "423/423 [==============================] - ETA: 0s - loss: 0.0345 - accuracy: 0.9897\n",
      "Epoch 4: val_loss did not improve from 0.07925\n",
      "423/423 [==============================] - 73s 172ms/step - loss: 0.0345 - accuracy: 0.9897 - val_loss: 0.0899 - val_accuracy: 0.9740\n",
      "Epoch 5/50\n",
      "423/423 [==============================] - ETA: 0s - loss: 0.0283 - accuracy: 0.9916\n",
      "Epoch 5: val_loss improved from 0.07925 to 0.07253, saving model to rnn_weights.h5\n",
      "423/423 [==============================] - 68s 160ms/step - loss: 0.0283 - accuracy: 0.9916 - val_loss: 0.0725 - val_accuracy: 0.9785\n",
      "Epoch 6/50\n",
      "423/423 [==============================] - ETA: 0s - loss: 0.0228 - accuracy: 0.9925\n",
      "Epoch 6: val_loss improved from 0.07253 to 0.06786, saving model to rnn_weights.h5\n",
      "423/423 [==============================] - 77s 182ms/step - loss: 0.0228 - accuracy: 0.9925 - val_loss: 0.0679 - val_accuracy: 0.9846\n",
      "Epoch 7/50\n",
      "423/423 [==============================] - ETA: 0s - loss: 0.0173 - accuracy: 0.9946\n",
      "Epoch 7: val_loss did not improve from 0.06786\n",
      "423/423 [==============================] - 78s 185ms/step - loss: 0.0173 - accuracy: 0.9946 - val_loss: 0.0719 - val_accuracy: 0.9799\n",
      "Epoch 8/50\n",
      "423/423 [==============================] - ETA: 0s - loss: 0.0129 - accuracy: 0.9957\n",
      "Epoch 8: val_loss did not improve from 0.06786\n",
      "423/423 [==============================] - 74s 175ms/step - loss: 0.0129 - accuracy: 0.9957 - val_loss: 0.0839 - val_accuracy: 0.9790\n",
      "Epoch 9/50\n",
      "423/423 [==============================] - ETA: 0s - loss: 0.0116 - accuracy: 0.9960\n",
      "Epoch 9: val_loss did not improve from 0.06786\n",
      "423/423 [==============================] - 78s 184ms/step - loss: 0.0116 - accuracy: 0.9960 - val_loss: 0.0808 - val_accuracy: 0.9751\n",
      "Epoch 10/50\n",
      "423/423 [==============================] - ETA: 0s - loss: 0.0101 - accuracy: 0.9962\n",
      "Epoch 10: val_loss did not improve from 0.06786\n",
      "423/423 [==============================] - 83s 196ms/step - loss: 0.0101 - accuracy: 0.9962 - val_loss: 0.0975 - val_accuracy: 0.9827\n",
      "Epoch 11/50\n",
      "423/423 [==============================] - ETA: 0s - loss: 0.0082 - accuracy: 0.9972\n",
      "Epoch 11: val_loss did not improve from 0.06786\n",
      "423/423 [==============================] - 73s 174ms/step - loss: 0.0082 - accuracy: 0.9972 - val_loss: 0.0938 - val_accuracy: 0.9827\n",
      "Epoch 12/50\n",
      "423/423 [==============================] - ETA: 0s - loss: 0.0076 - accuracy: 0.9977\n",
      "Epoch 12: val_loss did not improve from 0.06786\n",
      "423/423 [==============================] - 72s 169ms/step - loss: 0.0076 - accuracy: 0.9977 - val_loss: 0.0852 - val_accuracy: 0.9835\n",
      "Epoch 13/50\n",
      "423/423 [==============================] - ETA: 0s - loss: 0.0063 - accuracy: 0.9980\n",
      "Epoch 13: val_loss did not improve from 0.06786\n",
      "423/423 [==============================] - 67s 158ms/step - loss: 0.0063 - accuracy: 0.9980 - val_loss: 0.1375 - val_accuracy: 0.9799\n",
      "Epoch 14/50\n",
      "423/423 [==============================] - ETA: 0s - loss: 0.0071 - accuracy: 0.9976\n",
      "Epoch 14: val_loss did not improve from 0.06786\n",
      "423/423 [==============================] - 70s 166ms/step - loss: 0.0071 - accuracy: 0.9976 - val_loss: 0.1379 - val_accuracy: 0.9681\n",
      "Epoch 15/50\n",
      "423/423 [==============================] - ETA: 0s - loss: 0.0063 - accuracy: 0.9975\n",
      "Epoch 15: val_loss did not improve from 0.06786\n",
      "423/423 [==============================] - 80s 190ms/step - loss: 0.0063 - accuracy: 0.9975 - val_loss: 0.1050 - val_accuracy: 0.9804\n",
      "Epoch 16/50\n",
      "423/423 [==============================] - ETA: 0s - loss: 0.0049 - accuracy: 0.9989\n",
      "Epoch 16: val_loss did not improve from 0.06786\n",
      "423/423 [==============================] - 70s 165ms/step - loss: 0.0049 - accuracy: 0.9989 - val_loss: 0.0899 - val_accuracy: 0.9832\n",
      "Epoch 16: early stopping\n"
     ]
    },
    {
     "data": {
      "image/png": "[encoded data removed]",
      "text/plain": [
       "<Figure size 640x480 with 1 Axes>"
      ]
     },
     "metadata": {},
     "output_type": "display_data"
    }
   ],
   "source": [
    "# Define the callbacks\n",
    "early_stop = EarlyStopping(monitor='val_loss', patience=10, verbose=1, mode='min')\n",
    "model_checkpoint = ModelCheckpoint('rnn_weights.h5', save_best_only=True, save_weights_only=True, monitor='val_loss', mode='min', verbose=1)\n",
    "\n",
    "hist = model.fit(X_res,y_res,validation_data=(X_test,y_test),epochs=50,batch_size=64, callbacks=[early_stop, model_checkpoint])\n",
    "# Load the best model weights\n",
    "model.load_weights('rnn_weights.h5')\n",
    "\n",
    "plt.plot(hist.history['val_loss'], color='b', label=\"validation loss\")\n",
    "plt.plot(hist.history['loss'], color='red', label=\"loss\")\n",
    "plt.title(\"Model Loss\")\n",
    "plt.xlabel(\"Number of Epochs\")\n",
    "plt.ylabel(\"Loss\")\n",
    "plt.legend()\n",
    "plt.show()"
   ]
  },
  {
   "cell_type": "code",
   "execution_count": 33,
   "id": "2ca2eb50",
   "metadata": {},
   "outputs": [
    {
     "name": "stdout",
     "output_type": "stream",
     "text": [
      "56/56 [==============================] - 4s 56ms/step\n",
      "RNN test accuracy score : 0.9846196868008948\n"
     ]
    }
   ],
   "source": [
    "test_probs = model.predict(X_test, batch_size=64)\n",
    "test_preds = (test_probs >= 0.5).astype(int)\n",
    "\n",
    "test_accuracy = accuracy_score(y_test, test_preds)\n",
    "\n",
    "print(f\"RNN test accuracy score : {test_accuracy}\")"
   ]
  },
  {
   "cell_type": "code",
   "execution_count": 34,
   "id": "d4facb66",
   "metadata": {},
   "outputs": [
    {
     "data": {
      "image/png": "[encoded data removed]",
      "text/plain": [
       "<Figure size 640x480 with 2 Axes>"
      ]
     },
     "metadata": {},
     "output_type": "display_data"
    },
    {
     "name": "stdout",
     "output_type": "stream",
     "text": [
      "True Positive Rate: 0.7341040462427746\n",
      "True Negative Rate: 0.9973552747575668\n",
      "False Positive Rate: 0.002644725242433147\n",
      "False Negative Rate: 0.2658959537572254\n",
      "Accuracy: 0.9846196868008948\n",
      "              precision    recall  f1-score   support\n",
      "\n",
      "           0       0.99      1.00      0.99      3403\n",
      "           1       0.93      0.73      0.82       173\n",
      "\n",
      "    accuracy                           0.98      3576\n",
      "   macro avg       0.96      0.87      0.91      3576\n",
      "weighted avg       0.98      0.98      0.98      3576\n",
      "\n"
     ]
    }
   ],
   "source": [
    "# Calculate the confusion matrix\n",
    "cm = confusion_matrix(y_test, test_preds)\n",
    "\n",
    "# Define the class labels\n",
    "class_names = ['Real', 'Fake']\n",
    "\n",
    "# Create a heatmap of the confusion matrix\n",
    "sb.heatmap(cm, annot=True, fmt='d', cmap='Blues', xticklabels=class_names, yticklabels=class_names)\n",
    "\n",
    "# Set the axis labels and title\n",
    "plt.xlabel('Predicted')\n",
    "plt.ylabel('Actual')\n",
    "plt.title('Confusion Matrix')\n",
    "\n",
    "# Display the plot\n",
    "plt.show()\n",
    "\n",
    "TP = cm[1, 1]\n",
    "TN = cm[0, 0]\n",
    "FP = cm[0, 1]\n",
    "FN = cm[1, 0]\n",
    "\n",
    "TPR = TP / (TP + FN)\n",
    "print(\"True Positive Rate:\", TPR)\n",
    "TNR = TN / (TN + FP) \n",
    "print(\"True Negative Rate:\", TNR)\n",
    "FPR = FP / (FP + TN)\n",
    "print(\"False Positive Rate:\", FPR)\n",
    "FNR = FN / (TP + FN)\n",
    "print(\"False Negative Rate:\", FNR)\n",
    "ACC = (TP + TN) / (TP + FP + FN + TN)\n",
    "print(\"Accuracy:\", ACC)\n",
    "\n",
    "print(metrics.classification_report(y_test, test_preds))"
   ]
  },
  {
   "cell_type": "code",
   "execution_count": null,
   "id": "a58b3457",
   "metadata": {},
   "outputs": [],
   "source": []
  }
 ],
 "metadata": {
  "kernelspec": {
   "display_name": "Python 3 (ipykernel)",
   "language": "python",
   "name": "python3"
  },
  "language_info": {
   "codemirror_mode": {
    "name": "ipython",
    "version": 3
   },
   "file_extension": ".py",
   "mimetype": "text/x-python",
   "name": "python",
   "nbconvert_exporter": "python",
   "pygments_lexer": "ipython3",
   "version": "3.9.13"
  }
 },
 "nbformat": 4,
 "nbformat_minor": 5
}
