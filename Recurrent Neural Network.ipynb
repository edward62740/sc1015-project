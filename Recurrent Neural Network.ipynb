{
 "cells": [
  {
   "cell_type": "markdown",
   "id": "a383dbf9",
   "metadata": {},
   "source": [
    "# Part 5: Recurrent Neural Network\n",
    "\n",
    "### In this section, the cleaned text will be converted to a suitable form using GloVe embedding, then used to train a RNN with LSTM layer.\n",
    "\n",
    "### This section will also explore and test different methods of fine-tuning the RNN and evaluating its effectiveness"
   ]
  },
  {
   "cell_type": "code",
   "execution_count": null,
   "id": "b26f6696",
   "metadata": {},
   "outputs": [],
   "source": [
    "import sys\n",
    "!{sys.executable} -m pip install pandas_profiling\n",
    "!{sys.executable} -m pip install spacy\n",
    "!{sys.executable} -m pip install nltk\n",
    "!{sys.executable} -m pip install imblearn\n",
    "!{sys.executable} -m pip install scikit-learn-intelex\n",
    "!{sys.executable} -m pip install tensorflow==2.9.0 --user\n",
    "!{sys.executable} -m spacy download en_core_web_md\n",
    "!{sys.executable} -m pip install wget\n",
    "!{sys.executable} -m pip install unzip"
   ]
  },
  {
   "cell_type": "code",
   "execution_count": 3,
   "id": "880c273d",
   "metadata": {},
   "outputs": [
    {
     "name": "stdout",
     "output_type": "stream",
     "text": [
      "\n",
      "Saved under glove.6B.zip\n"
     ]
    }
   ],
   "source": [
    "!{sys.executable} -m wget http://nlp.stanford.edu/data/glove.6B.zip"
   ]
  },
  {
   "cell_type": "code",
   "execution_count": 1,
   "id": "2a5cad6f",
   "metadata": {},
   "outputs": [
    {
     "name": "stdout",
     "output_type": "stream",
     "text": [
      "2.9.0\n"
     ]
    }
   ],
   "source": [
    "import numpy as np\n",
    "import pandas as pd\n",
    "import matplotlib.pyplot as plt\n",
    "import seaborn as sb\n",
    "import spacy\n",
    "import nltk\n",
    "import re\n",
    "from sklearn import metrics\n",
    "from sklearn.feature_extraction.text import TfidfVectorizer\n",
    "from sklearn.model_selection import StratifiedShuffleSplit\n",
    "from imblearn.over_sampling import ADASYN, SMOTE\n",
    "from sklearn.feature_selection import SelectFromModel\n",
    "from sklearn.feature_selection import VarianceThreshold\n",
    "from sklearn.metrics import accuracy_score\n",
    "from sklearn.metrics import confusion_matrix\n",
    "import tensorflow as tf\n",
    "from itertools import product\n",
    "from tensorflow.keras.layers import Embedding\n",
    "from tensorflow.keras.preprocessing.sequence import pad_sequences\n",
    "from tensorflow.keras.models import Sequential\n",
    "from tensorflow.keras.preprocessing.text import one_hot\n",
    "from tensorflow.keras.layers import LSTM\n",
    "from tensorflow.keras.layers import Dense\n",
    "from tensorflow.keras.layers import Bidirectional\n",
    "from tensorflow.keras.layers import Dropout,Conv1D, MaxPooling1D, GlobalMaxPooling1D, LeakyReLU\n",
    "from keras.regularizers import l2\n",
    "from tensorflow.keras.preprocessing.text import one_hot, Tokenizer\n",
    "from keras.callbacks import EarlyStopping, ModelCheckpoint\n",
    "from keras.preprocessing.text import Tokenizer\n",
    "\n",
    "adasyn=ADASYN()\n",
    "sb.set()\n",
    "\n",
    "\"\"\" NOTE: SET YOUR PROJECT ROOT DIRECTORY HERE \"\"\"\n",
    "PROJ_DIR = r\"\"\n",
    "RANDOM_SPLIT_SEED = 11\n",
    "MAX_FEATURES = 50000\n",
    "MAX_LEN = 200\n",
    "EMBEDDING_DIM = 100\n",
    "print(tf.__version__)"
   ]
  },
  {
   "cell_type": "markdown",
   "id": "fc52ad5c",
   "metadata": {},
   "source": [
    "Use CUDA DNN acceleration"
   ]
  },
  {
   "cell_type": "code",
   "execution_count": null,
   "id": "115410cd",
   "metadata": {},
   "outputs": [],
   "source": [
    "physical_devices = tf.config.list_physical_devices('GPU')\n",
    "tf.config.experimental.set_memory_growth(physical_devices[0], enable=True)\n",
    "config = tf.compat.v1.ConfigProto()\n",
    "config.gpu_options.allow_growth = True\n",
    "sess = tf.compat.v1.Session(config=config)\n",
    "tf.compat.v1.keras.backend.set_session(sess)\n"
   ]
  },
  {
   "cell_type": "markdown",
   "id": "c3cc4265",
   "metadata": {},
   "source": [
    "#### The pre-processed text is read from csv"
   ]
  },
  {
   "cell_type": "code",
   "execution_count": 3,
   "id": "f9461b36",
   "metadata": {},
   "outputs": [],
   "source": [
    "df = pd.read_csv(PROJ_DIR + r\"\\sc1015-project\\dataset\\fake_job_postings.csv\")\n",
    "\n",
    "cleaned_text = pd.read_csv('lemmatized_text.csv').squeeze() # convert to pd series\n"
   ]
  },
  {
   "cell_type": "markdown",
   "id": "d074d3aa",
   "metadata": {},
   "source": [
    "#### Use GloVe model for embedding layer"
   ]
  },
  {
   "cell_type": "code",
   "execution_count": 4,
   "id": "b85cb4f0",
   "metadata": {},
   "outputs": [],
   "source": [
    "embeddings_index = {}\n",
    "with open('glove_embeddings/glove.6B.100d.txt', 'r', encoding='utf-8') as f:\n",
    "    for line in f:\n",
    "        values = line.split()\n",
    "        word = values[0]\n",
    "        vector = np.asarray(values[1:], dtype='float32')\n",
    "        embeddings_index[word] = vector"
   ]
  },
  {
   "cell_type": "markdown",
   "id": "e9c6d556",
   "metadata": {},
   "source": [
    "#### Next, the text will be tokenized"
   ]
  },
  {
   "cell_type": "code",
   "execution_count": 5,
   "id": "e115276c",
   "metadata": {},
   "outputs": [],
   "source": [
    "tokenizer = Tokenizer(num_words=MAX_FEATURES)\n",
    "tokenizer.fit_on_texts(cleaned_text)\n",
    "word_index = tokenizer.word_index\n",
    "sequences = tokenizer.texts_to_sequences(cleaned_text)\n",
    "ml_seq = pad_sequences(sequences, maxlen=MAX_LEN)"
   ]
  },
  {
   "cell_type": "markdown",
   "id": "0f94f03b",
   "metadata": {},
   "source": [
    "#### Form embedding matrix to be used in the RNN"
   ]
  },
  {
   "cell_type": "code",
   "execution_count": 6,
   "id": "1312f770",
   "metadata": {},
   "outputs": [],
   "source": [
    "num_words = min(MAX_FEATURES, len(word_index) + 1)\n",
    "embedding_matrix = np.zeros((num_words, EMBEDDING_DIM))\n",
    "for word, i in word_index.items():\n",
    "    if i >= MAX_FEATURES:\n",
    "        continue\n",
    "    embedding_vector = embeddings_index.get(word)\n",
    "    if embedding_vector is not None:\n",
    "        embedding_matrix[i] = embedding_vector"
   ]
  },
  {
   "cell_type": "code",
   "execution_count": null,
   "id": "7b051bc9",
   "metadata": {},
   "outputs": [],
   "source": []
  },
  {
   "cell_type": "markdown",
   "id": "0507f0ab",
   "metadata": {},
   "source": [
    "#### The resulting padded data is split and the train set is resampled with ADASYN to compensate class imbalance"
   ]
  },
  {
   "cell_type": "code",
   "execution_count": 7,
   "id": "1572007e",
   "metadata": {},
   "outputs": [],
   "source": [
    "sss=StratifiedShuffleSplit(n_splits=1, random_state=RANDOM_SPLIT_SEED, test_size=0.2)\n",
    "X=np.zeros(shape=ml_seq.shape[0],dtype=np.bool_)\n",
    "y=np.array(df['fraudulent']) # prediction target\n",
    "for train_index, test_index in sss.split(X, y):\n",
    "    X_train, X_test = ml_seq[train_index,:], ml_seq[test_index,:]\n",
    "    y_train, y_test = y[train_index], y[test_index]\n",
    "\n",
    "X_res, y_res = adasyn.fit_resample(X_train, y_train)\n",
    "#smote = SMOTE(random_state=42)\n",
    "#X_resampled, y_resampled = smote.fit_resample(X_train, y_train)"
   ]
  },
  {
   "cell_type": "markdown",
   "id": "412482e1",
   "metadata": {},
   "source": [
    "### This section defines the RNN and its output layers, as well as tests the effectiveness of different number of LSTM units.\n",
    "**The embedded layer uses a non-trainable matrix as defined previously, derived from the GloVe model,\n",
    "followed by a bi-directional LSTM to help with memory in time domain,\n",
    "followed by a max pooling layer to summarize max vals in time domain,\n",
    "then 3 successive layers of dense and dropout\n",
    "The output activation is sigmoid so it can be rounded to a boolean value.\n",
    "LeakyRelu activation function was used to mitigate the dying Relu problem**"
   ]
  },
  {
   "cell_type": "code",
   "execution_count": 16,
   "id": "5ffc75c8",
   "metadata": {},
   "outputs": [
    {
     "name": "stdout",
     "output_type": "stream",
     "text": [
      "Model: \"sequential_3\"\n",
      "_________________________________________________________________\n",
      " Layer (type)                Output Shape              Param #   \n",
      "=================================================================\n",
      " embedding_3 (Embedding)     (None, 200, 100)          5000000   \n",
      "                                                                 \n",
      " bidirectional_3 (Bidirectio  (None, 200, 256)         234496    \n",
      " nal)                                                            \n",
      "                                                                 \n",
      " global_max_pooling1d_3 (Glo  (None, 256)              0         \n",
      " balMaxPooling1D)                                                \n",
      "                                                                 \n",
      " dense_12 (Dense)            (None, 256)               65792     \n",
      "                                                                 \n",
      " leaky_re_lu_9 (LeakyReLU)   (None, 256)               0         \n",
      "                                                                 \n",
      " dropout_9 (Dropout)         (None, 256)               0         \n",
      "                                                                 \n",
      " dense_13 (Dense)            (None, 128)               32896     \n",
      "                                                                 \n",
      " leaky_re_lu_10 (LeakyReLU)  (None, 128)               0         \n",
      "                                                                 \n",
      " dropout_10 (Dropout)        (None, 128)               0         \n",
      "                                                                 \n",
      " dense_14 (Dense)            (None, 64)                8256      \n",
      "                                                                 \n",
      " leaky_re_lu_11 (LeakyReLU)  (None, 64)                0         \n",
      "                                                                 \n",
      " dropout_11 (Dropout)        (None, 64)                0         \n",
      "                                                                 \n",
      " dense_15 (Dense)            (None, 1)                 65        \n",
      "                                                                 \n",
      "=================================================================\n",
      "Total params: 5,341,505\n",
      "Trainable params: 341,505\n",
      "Non-trainable params: 5,000,000\n",
      "_________________________________________________________________\n",
      "None\n"
     ]
    }
   ],
   "source": [
    "model = Sequential()\n",
    "model.add(Embedding(MAX_FEATURES, EMBEDDING_DIM, weights=[embedding_matrix], input_length=MAX_LEN, trainable=False))\n",
    "model.add(Bidirectional(LSTM(128,return_sequences=True)))\n",
    "model.add(GlobalMaxPooling1D())\n",
    "model.add(Dense(256))\n",
    "model.add(LeakyReLU(alpha=0.05))\n",
    "model.add(Dropout(0.3))\n",
    "model.add(Dense(128))\n",
    "model.add(LeakyReLU(alpha=0.05))\n",
    "model.add(Dropout(0.2))\n",
    "model.add(Dense(64))\n",
    "model.add(LeakyReLU(alpha=0.05))\n",
    "model.add(Dropout(0.1))\n",
    "model.add(Dense(1, activation='sigmoid'))\n",
    "model.compile(optimizer='adam',\n",
    "              loss='binary_crossentropy',\n",
    "              metrics=['accuracy'])\n",
    "print(model.summary())\n"
   ]
  },
  {
   "cell_type": "code",
   "execution_count": 17,
   "id": "d0d9e420",
   "metadata": {
    "scrolled": true
   },
   "outputs": [
    {
     "name": "stdout",
     "output_type": "stream",
     "text": [
      "Epoch 1/50\n",
      "423/423 [==============================] - ETA: 0s - loss: 0.1409 - accuracy: 0.9444\n",
      "Epoch 1: val_loss improved from inf to 0.17023, saving model to rnn_weights.h5\n",
      "423/423 [==============================] - 59s 126ms/step - loss: 0.1409 - accuracy: 0.9444 - val_loss: 0.1702 - val_accuracy: 0.9360\n",
      "Epoch 2/50\n",
      "423/423 [==============================] - ETA: 0s - loss: 0.0576 - accuracy: 0.9822\n",
      "Epoch 2: val_loss improved from 0.17023 to 0.07313, saving model to rnn_weights.h5\n",
      "423/423 [==============================] - 62s 145ms/step - loss: 0.0576 - accuracy: 0.9822 - val_loss: 0.0731 - val_accuracy: 0.9787\n",
      "Epoch 3/50\n",
      "423/423 [==============================] - ETA: 0s - loss: 0.0388 - accuracy: 0.9881\n",
      "Epoch 3: val_loss did not improve from 0.07313\n",
      "423/423 [==============================] - 55s 129ms/step - loss: 0.0388 - accuracy: 0.9881 - val_loss: 0.1052 - val_accuracy: 0.9737\n",
      "Epoch 4/50\n",
      "423/423 [==============================] - ETA: 0s - loss: 0.0310 - accuracy: 0.9905\n",
      "Epoch 4: val_loss did not improve from 0.07313\n",
      "423/423 [==============================] - 58s 137ms/step - loss: 0.0310 - accuracy: 0.9905 - val_loss: 0.0743 - val_accuracy: 0.9824\n",
      "Epoch 5/50\n",
      "423/423 [==============================] - ETA: 0s - loss: 0.0234 - accuracy: 0.9922\n",
      "Epoch 5: val_loss did not improve from 0.07313\n",
      "423/423 [==============================] - 54s 127ms/step - loss: 0.0234 - accuracy: 0.9922 - val_loss: 0.0750 - val_accuracy: 0.9818\n",
      "Epoch 6/50\n",
      "423/423 [==============================] - ETA: 0s - loss: 0.0159 - accuracy: 0.9942\n",
      "Epoch 6: val_loss improved from 0.07313 to 0.05939, saving model to rnn_weights.h5\n",
      "423/423 [==============================] - 53s 126ms/step - loss: 0.0159 - accuracy: 0.9942 - val_loss: 0.0594 - val_accuracy: 0.9835\n",
      "Epoch 7/50\n",
      "423/423 [==============================] - ETA: 0s - loss: 0.0105 - accuracy: 0.9966\n",
      "Epoch 7: val_loss did not improve from 0.05939\n",
      "423/423 [==============================] - 54s 127ms/step - loss: 0.0105 - accuracy: 0.9966 - val_loss: 0.0652 - val_accuracy: 0.9827\n",
      "Epoch 8/50\n",
      "423/423 [==============================] - ETA: 0s - loss: 0.0105 - accuracy: 0.9967\n",
      "Epoch 8: val_loss did not improve from 0.05939\n",
      "423/423 [==============================] - 56s 133ms/step - loss: 0.0105 - accuracy: 0.9967 - val_loss: 0.0764 - val_accuracy: 0.9832\n",
      "Epoch 9/50\n",
      "423/423 [==============================] - ETA: 0s - loss: 0.0101 - accuracy: 0.9964\n",
      "Epoch 9: val_loss did not improve from 0.05939\n",
      "423/423 [==============================] - 58s 136ms/step - loss: 0.0101 - accuracy: 0.9964 - val_loss: 0.0830 - val_accuracy: 0.9821\n",
      "Epoch 10/50\n",
      "423/423 [==============================] - ETA: 0s - loss: 0.0081 - accuracy: 0.9978\n",
      "Epoch 10: val_loss did not improve from 0.05939\n",
      "423/423 [==============================] - 55s 129ms/step - loss: 0.0081 - accuracy: 0.9978 - val_loss: 0.0746 - val_accuracy: 0.9821\n",
      "Epoch 11/50\n",
      "423/423 [==============================] - ETA: 0s - loss: 0.0085 - accuracy: 0.9968\n",
      "Epoch 11: val_loss did not improve from 0.05939\n",
      "423/423 [==============================] - 58s 137ms/step - loss: 0.0085 - accuracy: 0.9968 - val_loss: 0.0684 - val_accuracy: 0.9841\n",
      "Epoch 12/50\n",
      "423/423 [==============================] - ETA: 0s - loss: 0.0056 - accuracy: 0.9981\n",
      "Epoch 12: val_loss did not improve from 0.05939\n",
      "423/423 [==============================] - 56s 131ms/step - loss: 0.0056 - accuracy: 0.9981 - val_loss: 0.0908 - val_accuracy: 0.9832\n",
      "Epoch 13/50\n",
      "423/423 [==============================] - ETA: 0s - loss: 0.0039 - accuracy: 0.9986\n",
      "Epoch 13: val_loss did not improve from 0.05939\n",
      "423/423 [==============================] - 54s 127ms/step - loss: 0.0039 - accuracy: 0.9986 - val_loss: 0.0869 - val_accuracy: 0.9793\n",
      "Epoch 14/50\n",
      "423/423 [==============================] - ETA: 0s - loss: 0.0055 - accuracy: 0.9982\n",
      "Epoch 14: val_loss did not improve from 0.05939\n",
      "423/423 [==============================] - 55s 131ms/step - loss: 0.0055 - accuracy: 0.9982 - val_loss: 0.1022 - val_accuracy: 0.9813\n",
      "Epoch 15/50\n",
      "423/423 [==============================] - ETA: 0s - loss: 0.0057 - accuracy: 0.9979\n",
      "Epoch 15: val_loss did not improve from 0.05939\n",
      "423/423 [==============================] - 56s 132ms/step - loss: 0.0057 - accuracy: 0.9979 - val_loss: 0.1161 - val_accuracy: 0.9827\n",
      "Epoch 16/50\n",
      "423/423 [==============================] - ETA: 0s - loss: 0.0060 - accuracy: 0.9981\n",
      "Epoch 16: val_loss did not improve from 0.05939\n",
      "423/423 [==============================] - 57s 135ms/step - loss: 0.0060 - accuracy: 0.9981 - val_loss: 0.0948 - val_accuracy: 0.9860\n",
      "Epoch 16: early stopping\n"
     ]
    },
    {
     "data": {
      "image/png": "[encoded data removed]",
      "text/plain": [
       "<Figure size 640x480 with 1 Axes>"
      ]
     },
     "metadata": {},
     "output_type": "display_data"
    }
   ],
   "source": [
    "# Define the callbacks\n",
    "early_stop = EarlyStopping(monitor='val_loss', patience=10, verbose=1, mode='min')\n",
    "model_checkpoint = ModelCheckpoint('rnn_weights.h5', save_best_only=True, save_weights_only=True, monitor='val_loss', mode='min', verbose=1)\n",
    "\n",
    "hist = model.fit(X_res,y_res,validation_data=(X_test,y_test),epochs=50,batch_size=64, callbacks=[early_stop, model_checkpoint])\n",
    "# Load the best model weights\n",
    "model.load_weights('rnn_weights.h5')\n",
    "\n",
    "plt.plot(hist.history['val_loss'], color='b', label=\"validation loss\")\n",
    "plt.plot(hist.history['loss'], color='red', label=\"loss\")\n",
    "plt.title(\"Model Loss\")\n",
    "plt.xlabel(\"Number of Epochs\")\n",
    "plt.ylabel(\"Loss\")\n",
    "plt.legend()\n",
    "plt.show()"
   ]
  },
  {
   "cell_type": "code",
   "execution_count": 18,
   "id": "2ca2eb50",
   "metadata": {},
   "outputs": [
    {
     "name": "stdout",
     "output_type": "stream",
     "text": [
      "56/56 [==============================] - 4s 46ms/step\n",
      "RNN test accuracy score : 0.9835011185682326\n"
     ]
    }
   ],
   "source": [
    "test_probs = model.predict(X_test, batch_size=64)\n",
    "test_preds = (test_probs >= 0.5).astype(int)\n",
    "\n",
    "test_accuracy = accuracy_score(y_test, test_preds)\n",
    "\n",
    "print(f\"RNN test accuracy score : {test_accuracy}\")"
   ]
  },
  {
   "cell_type": "code",
   "execution_count": 19,
   "id": "d4facb66",
   "metadata": {},
   "outputs": [
    {
     "data": {
      "image/png": "[encoded data removed]",
      "text/plain": [
       "<Figure size 640x480 with 2 Axes>"
      ]
     },
     "metadata": {},
     "output_type": "display_data"
    },
    {
     "name": "stdout",
     "output_type": "stream",
     "text": [
      "True Positive Rate: 0.7687861271676301\n",
      "True Negative Rate: 0.9944166911548633\n",
      "False Positive Rate: 0.005583308845136644\n",
      "False Negative Rate: 0.23121387283236994\n",
      "Accuracy: 0.9835011185682326\n",
      "              precision    recall  f1-score   support\n",
      "\n",
      "           0       0.99      0.99      0.99      3403\n",
      "           1       0.88      0.77      0.82       173\n",
      "\n",
      "    accuracy                           0.98      3576\n",
      "   macro avg       0.93      0.88      0.90      3576\n",
      "weighted avg       0.98      0.98      0.98      3576\n",
      "\n"
     ]
    }
   ],
   "source": [
    "# Calculate the confusion matrix\n",
    "cm = confusion_matrix(y_test, test_preds)\n",
    "\n",
    "# Define the class labels\n",
    "class_names = ['Real', 'Fake']\n",
    "\n",
    "# Create a heatmap of the confusion matrix\n",
    "sb.heatmap(cm, annot=True, fmt='d', cmap='Blues', xticklabels=class_names, yticklabels=class_names)\n",
    "\n",
    "# Set the axis labels and title\n",
    "plt.xlabel('Predicted')\n",
    "plt.ylabel('Actual')\n",
    "plt.title('Confusion Matrix')\n",
    "\n",
    "# Display the plot\n",
    "plt.show()\n",
    "\n",
    "TP = cm[1, 1]\n",
    "TN = cm[0, 0]\n",
    "FP = cm[0, 1]\n",
    "FN = cm[1, 0]\n",
    "\n",
    "TPR = TP / (TP + FN)\n",
    "print(\"True Positive Rate:\", TPR)\n",
    "TNR = TN / (TN + FP) \n",
    "print(\"True Negative Rate:\", TNR)\n",
    "FPR = FP / (FP + TN)\n",
    "print(\"False Positive Rate:\", FPR)\n",
    "FNR = FN / (TP + FN)\n",
    "print(\"False Negative Rate:\", FNR)\n",
    "ACC = (TP + TN) / (TP + FP + FN + TN)\n",
    "print(\"Accuracy:\", ACC)\n",
    "\n",
    "print(metrics.classification_report(y_test, test_preds))"
   ]
  },
  {
   "cell_type": "markdown",
   "id": "1ffc0ac9",
   "metadata": {},
   "source": [
    "### Conclusion for Recurrent Neural Network model\n",
    "\n",
    "**In conclusion, the best overall performance was achieved using a single LSTM layer of 128 units, yielding f1-score of 0.99/0.82, 0.99 TNR, 0.77 TPR. Addition of the globalmaxpooling and dropout/dense layers helped with improving the generalization of the model.**"
   ]
  },
  {
   "cell_type": "code",
   "execution_count": null,
   "id": "fe5f7edc",
   "metadata": {},
   "outputs": [],
   "source": []
  }
 ],
 "metadata": {
  "kernelspec": {
   "display_name": "Python 3 (ipykernel)",
   "language": "python",
   "name": "python3"
  },
  "language_info": {
   "codemirror_mode": {
    "name": "ipython",
    "version": 3
   },
   "file_extension": ".py",
   "mimetype": "text/x-python",
   "name": "python",
   "nbconvert_exporter": "python",
   "pygments_lexer": "ipython3",
   "version": "3.9.13"
  }
 },
 "nbformat": 4,
 "nbformat_minor": 5
}
