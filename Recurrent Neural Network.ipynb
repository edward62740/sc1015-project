{
 "cells": [
  {
   "cell_type": "markdown",
   "id": "a383dbf9",
   "metadata": {},
   "source": [
    "# Part 4: Recurrent Neural Network\n",
    "\n",
    "### In this section, the cleaned text will be vectorized using TF-IDF (covered in Part 2) and will be used to train a Support Vector Machine (SVM). Specifically, the model used is the sklearn LinearSVC for classification problems.\n",
    "\n",
    "### This section will also explore and test different methods of fine-tuning the SVM and evaluating its effectiveness"
   ]
  },
  {
   "cell_type": "code",
   "execution_count": null,
   "id": "b26f6696",
   "metadata": {},
   "outputs": [],
   "source": [
    "import sys\n",
    "!{sys.executable} -m pip install pandas_profiling\n",
    "!{sys.executable} -m pip install spacy\n",
    "!{sys.executable} -m pip install nltk\n",
    "!{sys.executable} -m pip install imblearn\n",
    "!{sys.executable} -m pip install scikit-learn-intelex\n",
    "!{sys.executable} -m pip install tensorflow\n",
    "!{sys.executable} -m spacy download en_core_web_md\n"
   ]
  },
  {
   "cell_type": "code",
   "execution_count": 1,
   "id": "2a5cad6f",
   "metadata": {},
   "outputs": [],
   "source": [
    "import numpy as np\n",
    "import pandas as pd\n",
    "import matplotlib.pyplot as plt\n",
    "import seaborn as sb\n",
    "import spacy\n",
    "import nltk\n",
    "import re\n",
    "from sklearn import metrics\n",
    "from sklearn.feature_extraction.text import TfidfVectorizer\n",
    "from sklearn.model_selection import StratifiedShuffleSplit\n",
    "from imblearn.over_sampling import ADASYN, SMOTE\n",
    "from sklearn.feature_selection import SelectFromModel\n",
    "from sklearn.feature_selection import VarianceThreshold\n",
    "from sklearn.metrics import accuracy_score\n",
    "from sklearn.metrics import confusion_matrix\n",
    "import tensorflow as tf\n",
    "tf.__version__\n",
    "from tensorflow.keras.layers import Embedding\n",
    "from tensorflow.keras.preprocessing.sequence import pad_sequences\n",
    "from tensorflow.keras.models import Sequential\n",
    "from tensorflow.keras.preprocessing.text import one_hot\n",
    "from tensorflow.keras.layers import LSTM\n",
    "from tensorflow.keras.layers import Dense\n",
    "from tensorflow.keras.layers import Bidirectional\n",
    "from tensorflow.keras.layers import Dropout\n",
    "from tensorflow.keras.preprocessing.text import one_hot, Tokenizer\n",
    "\n",
    "adasyn=ADASYN()\n",
    "sb.set()\n",
    "\n",
    "\"\"\" NOTE: SET YOUR PROJECT ROOT DIRECTORY HERE \"\"\"\n",
    "PROJ_DIR = r\"\"\n",
    "RANDOM_SPLIT_SEED = 11\n",
    "MAX_FEATURES = 50000\n",
    "MAX_LEN = 50"
   ]
  },
  {
   "cell_type": "markdown",
   "id": "c3cc4265",
   "metadata": {},
   "source": [
    "This section has been copied over from Part 2. It vectorizes the processed text and splits train/test data. In this case, the max features are limited to 25000 because of computing power needed otherwise (default is 1M+ params)"
   ]
  },
  {
   "cell_type": "code",
   "execution_count": 2,
   "id": "f9461b36",
   "metadata": {},
   "outputs": [],
   "source": [
    "### SECTION COPIED FROM PART 2, PLEASE REFER TO DESCRIPTION FOUND THERE\n",
    "\n",
    "df = pd.read_csv(PROJ_DIR + r\"\\sc1015-project\\dataset\\fake_job_postings.csv\")\n",
    "\n",
    "cleaned_text = pd.read_csv('lemmatized_text.csv').squeeze() # convert to pd series\n"
   ]
  },
  {
   "cell_type": "markdown",
   "id": "e9c6d556",
   "metadata": {},
   "source": [
    "Here we will use one-hot encoding instead of TF-IDF, to be used for the RNN."
   ]
  },
  {
   "cell_type": "code",
   "execution_count": 3,
   "id": "e115276c",
   "metadata": {},
   "outputs": [],
   "source": [
    "one_hot_text = [one_hot(words,MAX_FEATURES)for words in cleaned_text] "
   ]
  },
  {
   "cell_type": "code",
   "execution_count": null,
   "id": "6e157890",
   "metadata": {},
   "outputs": [],
   "source": []
  },
  {
   "cell_type": "code",
   "execution_count": 4,
   "id": "1312f770",
   "metadata": {},
   "outputs": [],
   "source": [
    "ml_seq = pad_sequences(one_hot_text,padding='pre',maxlen=MAX_LEN)"
   ]
  },
  {
   "cell_type": "code",
   "execution_count": 9,
   "id": "7b051bc9",
   "metadata": {},
   "outputs": [],
   "source": [
    "sss=StratifiedShuffleSplit(n_splits=1, random_state=RANDOM_SPLIT_SEED, test_size=0.2)\n",
    "X=np.zeros(shape=ml_seq.shape[0],dtype=np.bool_)\n",
    "y=np.array(df['fraudulent']) # prediction target\n",
    "for train_index, test_index in sss.split(X, y):\n",
    "    X_train, X_test = ml_seq[train_index,:], ml_seq[test_index,:]\n",
    "    y_train, y_test = y[train_index], y[test_index]\n"
   ]
  },
  {
   "cell_type": "markdown",
   "id": "0507f0ab",
   "metadata": {},
   "source": [
    "This section has also been copied over from Part 2. It uses ADASYN to oversample the minority class (i.e frauduent=true). SMOTE was attempted but was not as good."
   ]
  },
  {
   "cell_type": "code",
   "execution_count": null,
   "id": "a844cd7b",
   "metadata": {},
   "outputs": [],
   "source": []
  },
  {
   "cell_type": "code",
   "execution_count": 12,
   "id": "1572007e",
   "metadata": {},
   "outputs": [],
   "source": [
    "X_res, y_res = adasyn.fit_resample(X_train, y_train)\n",
    "\n",
    "\n",
    "#smote = SMOTE(random_state=42)\n",
    "#X_resampled, y_resampled = smote.fit_resample(X_train, y_train)"
   ]
  },
  {
   "cell_type": "code",
   "execution_count": 13,
   "id": "2000fcd2",
   "metadata": {},
   "outputs": [
    {
     "data": {
      "text/plain": [
       "array([ 5991, 46386, 32485,  4591, 10160,  5028, 27782, 10515, 24171,\n",
       "       42323,  5991, 30273,  7861, 12030, 18762,  1084,  4605, 20188,\n",
       "       45451, 37733,  9974, 19495,  1084, 47311, 12521, 27087,  4064,\n",
       "       28762, 12011, 26162, 12521, 28762,  7436, 33446, 43673,  7122,\n",
       "       27825, 40105, 23751, 26426, 15781, 14716, 45700, 14541, 15781,\n",
       "       13470, 14136, 48724, 15215, 16983])"
      ]
     },
     "execution_count": 13,
     "metadata": {},
     "output_type": "execute_result"
    }
   ],
   "source": [
    "X_res[1]"
   ]
  },
  {
   "cell_type": "code",
   "execution_count": 74,
   "id": "5ffc75c8",
   "metadata": {},
   "outputs": [
    {
     "name": "stdout",
     "output_type": "stream",
     "text": [
      "Model: \"sequential_16\"\n",
      "_________________________________________________________________\n",
      " Layer (type)                Output Shape              Param #   \n",
      "=================================================================\n",
      " embedding_16 (Embedding)    (None, 50, 40)            2000000   \n",
      "                                                                 \n",
      " bidirectional_14 (Bidirecti  (None, 256)              173056    \n",
      " onal)                                                           \n",
      "                                                                 \n",
      " dense_25 (Dense)            (None, 64)                16448     \n",
      "                                                                 \n",
      " dropout_20 (Dropout)        (None, 64)                0         \n",
      "                                                                 \n",
      " dense_26 (Dense)            (None, 32)                2080      \n",
      "                                                                 \n",
      " dropout_21 (Dropout)        (None, 32)                0         \n",
      "                                                                 \n",
      " dense_27 (Dense)            (None, 6)                 198       \n",
      "                                                                 \n",
      " dropout_22 (Dropout)        (None, 6)                 0         \n",
      "                                                                 \n",
      " dense_28 (Dense)            (None, 1)                 7         \n",
      "                                                                 \n",
      "=================================================================\n",
      "Total params: 2,191,789\n",
      "Trainable params: 2,191,789\n",
      "Non-trainable params: 0\n",
      "_________________________________________________________________\n",
      "None\n"
     ]
    }
   ],
   "source": [
    "def batch_generator(X_data, y_data, batch_size):\n",
    "    samples_per_epoch = X_data.shape[0]\n",
    "    number_of_batches = samples_per_epoch // batch_size\n",
    "    counter = 0\n",
    "    index = np.arange(X_data.shape[0])\n",
    "    while True:\n",
    "        index_batch = index[batch_size * counter:batch_size * (counter + 1)]\n",
    "        X_batch = X_data[index_batch]\n",
    "        y_batch = y_data[index_batch]\n",
    "        counter += 1\n",
    "        yield X_batch, y_batch\n",
    "        if counter > number_of_batches:\n",
    "            counter = 0\n",
    "model = Sequential()\n",
    "model.add(Embedding(MAX_FEATURES, 40, input_length=MAX_LEN))\n",
    "model.add(Bidirectional(LSTM(128)))\n",
    "model.add(Dense(64, activation='relu'))\n",
    "model.add(Dropout(0.5))\n",
    "model.add(Dense(32, activation='relu'))\n",
    "model.add(Dropout(0.5))\n",
    "model.add(Dense(6, activation='relu'))\n",
    "model.add(Dropout(0.3))\n",
    "model.add(Dense(1, activation='sigmoid'))\n",
    "model.compile(optimizer='adam',\n",
    "              loss='binary_crossentropy',\n",
    "              metrics=['accuracy'])\n",
    "print(model.summary())\n"
   ]
  },
  {
   "cell_type": "code",
   "execution_count": 75,
   "id": "d0d9e420",
   "metadata": {},
   "outputs": [
    {
     "name": "stdout",
     "output_type": "stream",
     "text": [
      "Epoch 1/10\n",
      "426/426 [==============================] - 69s 155ms/step - loss: 0.2133 - accuracy: 0.9196 - val_loss: 0.1094 - val_accuracy: 0.9704\n",
      "Epoch 2/10\n",
      "426/426 [==============================] - 102s 240ms/step - loss: 0.0667 - accuracy: 0.9753 - val_loss: 0.1338 - val_accuracy: 0.9732\n",
      "Epoch 3/10\n",
      "426/426 [==============================] - 103s 242ms/step - loss: 0.0405 - accuracy: 0.9804 - val_loss: 0.1335 - val_accuracy: 0.9648\n",
      "Epoch 4/10\n",
      "426/426 [==============================] - 101s 238ms/step - loss: 0.0309 - accuracy: 0.9832 - val_loss: 0.2913 - val_accuracy: 0.9676\n",
      "Epoch 5/10\n",
      "426/426 [==============================] - 102s 239ms/step - loss: 0.0221 - accuracy: 0.9850 - val_loss: 0.2977 - val_accuracy: 0.9572\n",
      "Epoch 6/10\n",
      "426/426 [==============================] - 102s 239ms/step - loss: 0.0273 - accuracy: 0.9849 - val_loss: 0.2968 - val_accuracy: 0.9706\n",
      "Epoch 7/10\n",
      "426/426 [==============================] - 102s 239ms/step - loss: 0.0257 - accuracy: 0.9844 - val_loss: 0.2813 - val_accuracy: 0.9773\n",
      "Epoch 8/10\n",
      "426/426 [==============================] - 101s 237ms/step - loss: 0.0220 - accuracy: 0.9852 - val_loss: 0.3997 - val_accuracy: 0.9670\n",
      "Epoch 9/10\n",
      "426/426 [==============================] - 102s 239ms/step - loss: 0.0233 - accuracy: 0.9855 - val_loss: 0.3033 - val_accuracy: 0.9681\n",
      "Epoch 10/10\n",
      "426/426 [==============================] - 101s 238ms/step - loss: 0.0215 - accuracy: 0.9848 - val_loss: 0.4811 - val_accuracy: 0.9734\n"
     ]
    },
    {
     "data": {
      "image/png": "[encoded data removed]",
      "text/plain": [
       "<Figure size 640x480 with 1 Axes>"
      ]
     },
     "metadata": {},
     "output_type": "display_data"
    }
   ],
   "source": [
    "hist = model.fit(X_res,y_res,validation_data=(X_test,y_test),epochs=10,batch_size=64)\n",
    "plt.plot(hist.history['val_loss'], color='b', label=\"validation loss\")\n",
    "plt.plot(hist.history['loss'], color='red', label=\"loss\")\n",
    "plt.title(\"Model Loss\")\n",
    "plt.xlabel(\"Number of Epochs\")\n",
    "plt.ylabel(\"Loss\")\n",
    "plt.legend()\n",
    "plt.show()"
   ]
  },
  {
   "cell_type": "code",
   "execution_count": 76,
   "id": "2ca2eb50",
   "metadata": {},
   "outputs": [
    {
     "name": "stdout",
     "output_type": "stream",
     "text": [
      "56/56 [==============================] - 3s 49ms/step\n",
      "RNN test accuracy score : 0.973434004474273\n"
     ]
    }
   ],
   "source": [
    "test_probs = model.predict(X_test, batch_size=64)\n",
    "test_preds = (test_probs >= 0.5).astype(int)\n",
    "\n",
    "test_accuracy = accuracy_score(y_test, test_preds)\n",
    "\n",
    "print(f\"RNN test accuracy score : {test_accuracy}\")"
   ]
  },
  {
   "cell_type": "code",
   "execution_count": 77,
   "id": "d4facb66",
   "metadata": {},
   "outputs": [
    {
     "data": {
      "image/png": "[encoded data removed]",
      "text/plain": [
       "<Figure size 640x480 with 2 Axes>"
      ]
     },
     "metadata": {},
     "output_type": "display_data"
    },
    {
     "name": "stdout",
     "output_type": "stream",
     "text": [
      "True Positive Rate: 0.6705202312138728\n",
      "True Negative Rate: 0.9888333823097267\n",
      "False Positive Rate: 0.011166617690273288\n",
      "False Negative Rate: 0.32947976878612717\n",
      "Accuracy: 0.973434004474273\n",
      "              precision    recall  f1-score   support\n",
      "\n",
      "           0       0.98      0.99      0.99      3403\n",
      "           1       0.75      0.67      0.71       173\n",
      "\n",
      "    accuracy                           0.97      3576\n",
      "   macro avg       0.87      0.83      0.85      3576\n",
      "weighted avg       0.97      0.97      0.97      3576\n",
      "\n"
     ]
    }
   ],
   "source": [
    "# Calculate the confusion matrix\n",
    "cm = confusion_matrix(y_test, test_preds)\n",
    "\n",
    "# Define the class labels\n",
    "class_names = ['Real', 'Fake']\n",
    "\n",
    "# Create a heatmap of the confusion matrix\n",
    "sb.heatmap(cm, annot=True, fmt='d', cmap='Blues', xticklabels=class_names, yticklabels=class_names)\n",
    "\n",
    "# Set the axis labels and title\n",
    "plt.xlabel('Predicted')\n",
    "plt.ylabel('Actual')\n",
    "plt.title('Confusion Matrix')\n",
    "\n",
    "# Display the plot\n",
    "plt.show()\n",
    "\n",
    "TP = cm[1, 1]\n",
    "TN = cm[0, 0]\n",
    "FP = cm[0, 1]\n",
    "FN = cm[1, 0]\n",
    "\n",
    "TPR = TP / (TP + FN)\n",
    "print(\"True Positive Rate:\", TPR)\n",
    "TNR = TN / (TN + FP) \n",
    "print(\"True Negative Rate:\", TNR)\n",
    "FPR = FP / (FP + TN)\n",
    "print(\"False Positive Rate:\", FPR)\n",
    "FNR = FN / (TP + FN)\n",
    "print(\"False Negative Rate:\", FNR)\n",
    "ACC = (TP + TN) / (TP + FP + FN + TN)\n",
    "print(\"Accuracy:\", ACC)\n",
    "\n",
    "print(metrics.classification_report(y_test, test_preds))"
   ]
  },
  {
   "cell_type": "code",
   "execution_count": null,
   "id": "a58b3457",
   "metadata": {},
   "outputs": [],
   "source": []
  }
 ],
 "metadata": {
  "kernelspec": {
   "display_name": "Python 3 (ipykernel)",
   "language": "python",
   "name": "python3"
  },
  "language_info": {
   "codemirror_mode": {
    "name": "ipython",
    "version": 3
   },
   "file_extension": ".py",
   "mimetype": "text/x-python",
   "name": "python",
   "nbconvert_exporter": "python",
   "pygments_lexer": "ipython3",
   "version": "3.9.13"
  }
 },
 "nbformat": 4,
 "nbformat_minor": 5
}
