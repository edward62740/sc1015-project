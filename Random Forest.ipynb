{
 "cells": [
  {
   "cell_type": "markdown",
   "id": "1cec919d",
   "metadata": {},
   "source": [
    "# Part 3: Random Forest\n",
    "\n",
    "###"
   ]
  },
  {
   "cell_type": "code",
   "execution_count": null,
   "id": "791330f4",
   "metadata": {},
   "outputs": [],
   "source": [
    "import sys\n",
    "!{sys.executable} -m pip install pandas_profiling\n",
    "!{sys.executable} -m pip install spacy\n",
    "!{sys.executable} -m pip install nltk\n",
    "!{sys.executable} -m pip install imblearn\n",
    "!{sys.executable} -m pip install scikit-learn-intelex\n",
    "!{sys.executable} -m spacy download en_core_web_md\n"
   ]
  },
  {
   "cell_type": "code",
   "execution_count": null,
   "id": "2b1256bf",
   "metadata": {},
   "outputs": [],
   "source": [
    "import numpy as np\n",
    "import pandas as pd\n",
    "import matplotlib.pyplot as plt\n",
    "import seaborn as sb\n",
    "import spacy\n",
    "import nltk\n",
    "import re\n",
    "from sklearn import metrics\n",
    "from sklearn.feature_extraction.text import TfidfVectorizer\n",
    "from sklearn.model_selection import StratifiedShuffleSplit\n",
    "from imblearn.over_sampling import ADASYN, SMOTE\n",
    "from sklearn.feature_selection import SelectFromModel\n",
    "from sklearn.svm import LinearSVC\n",
    "from sklearn.metrics import accuracy_score\n",
    "from sklearn.metrics import confusion_matrix\n",
    "from sklearn.svm import SVC\n",
    "from sklearnex import patch_sklearn, config_context\n",
    "from sklearn.pipeline import make_pipeline\n",
    "patch_sklearn() # SW AI Accelerator for Intel CPUs. EXCLUDE IF NOT USING INTEL CPU.\n",
    "\n",
    "adasyn=ADASYN()\n",
    "sb.set()\n",
    "\n",
    "\"\"\" NOTE: SET YOUR PROJECT ROOT DIRECTORY HERE \"\"\"\n",
    "PROJ_DIR = r\"\"\n",
    "RANDOM_SPLIT_SEED = 11"
   ]
  }
 ],
 "metadata": {
  "kernelspec": {
   "display_name": "Python 3 (ipykernel)",
   "language": "python",
   "name": "python3"
  },
  "language_info": {
   "codemirror_mode": {
    "name": "ipython",
    "version": 3
   },
   "file_extension": ".py",
   "mimetype": "text/x-python",
   "name": "python",
   "nbconvert_exporter": "python",
   "pygments_lexer": "ipython3",
   "version": "3.9.13"
  }
 },
 "nbformat": 4,
 "nbformat_minor": 5
}
